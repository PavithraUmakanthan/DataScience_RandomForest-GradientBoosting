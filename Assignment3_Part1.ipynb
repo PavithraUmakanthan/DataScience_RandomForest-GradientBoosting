{
 "cells": [
  {
   "cell_type": "markdown",
   "metadata": {},
   "source": [
    "1. Understand the problem and read in the data\n",
    "2. Pre-process data, train-test split\n",
    "3. Build and compile a deep learning model"
   ]
  },
  {
   "cell_type": "markdown",
   "metadata": {},
   "source": [
    "# Understand the problem and read in the data"
   ]
  },
  {
   "cell_type": "markdown",
   "metadata": {},
   "source": [
    "This Kaggle challenge is about predicting the onset of diabetes in 5 years or less. \n",
    "Target variable is Outcome. 1 = yes, the person became diabetic in 5 years, and 0 = No, \n",
    "the person did not. This is a binary classification problem. Please check out the Kaggle\n",
    "link here to see feature \n",
    "details - https://www.kaggle.com/uciml/pima-indians-diabetes-database/data"
   ]
  },
  {
   "cell_type": "code",
   "execution_count": 171,
   "metadata": {},
   "outputs": [],
   "source": [
    "#1. Expand the basic code for building a DNN on the Pima Indian Diabetic Dataset to include:\n",
    "    \n",
    "    \n",
    "#(a) pre-process the data by scaling/standardizing the 8 columns (3 marks)"
   ]
  },
  {
   "cell_type": "code",
   "execution_count": 172,
   "metadata": {},
   "outputs": [],
   "source": [
    "'''Import necessary packages'''\n",
    "from keras.models import Sequential\n",
    "from keras.layers import Dense\n",
    "from sklearn.model_selection import train_test_split\n",
    "import seaborn as sns\n",
    "import numpy as np\n",
    "import pandas as pd\n",
    "import matplotlib.pyplot as plt\n",
    "\n",
    "%matplotlib inline"
   ]
  },
  {
   "cell_type": "code",
   "execution_count": 173,
   "metadata": {},
   "outputs": [
    {
     "data": {
      "text/plain": [
       "'/Users/Venkat/Downloads'"
      ]
     },
     "execution_count": 173,
     "metadata": {},
     "output_type": "execute_result"
    }
   ],
   "source": [
    "%pwd"
   ]
  },
  {
   "cell_type": "code",
   "execution_count": 174,
   "metadata": {},
   "outputs": [
    {
     "name": "stdout",
     "output_type": "stream",
     "text": [
      "15 SBC $1000 PPO.pdf\r\n",
      "15 SBC $2000 PPO (1).pdf\r\n",
      "15 SBC $2000 PPO.pdf\r\n",
      "15 SBC $500 PPO.pdf\r\n",
      "20160623103505597.pdf\r\n",
      "\u001b[34m2021 WellsFargo Tax Documents\u001b[m\u001b[m\r\n",
      "2021 WellsFargo Tax Documents.zip\r\n",
      "2022_08_01_14_32_50.pdf\r\n",
      "6105_project.ipynb\r\n",
      "658c98ab-cffd-448c-80cc-564ab4839f19 (1).pdf\r\n",
      "658c98ab-cffd-448c-80cc-564ab4839f19.pdf\r\n",
      "6a67adb2-fe02-4fd2-bada-6445c13455fb (1).pdf\r\n",
      "6a67adb2-fe02-4fd2-bada-6445c13455fb.pdf\r\n",
      "Account-Summary-2022-04-25 07_35_59 UTC.pdf\r\n",
      "\u001b[34mApartments.com Rental Application and Reports\u001b[m\u001b[m\r\n",
      "Apartments.com Rental Application and Reports.zip\r\n",
      "Assignment2_Part1.ipynb\r\n",
      "Assignment2_Part2(GradientBoosting).ipynb\r\n",
      "Assignment2_Part2(Knn).ipynb\r\n",
      "Assignment2_Part2(RandomForest).ipynb\r\n",
      "Assignment2_Part3.ipynb\r\n",
      "Assignment2_Part4.ipynb\r\n",
      "Assignment3_Part1.ipynb\r\n",
      "Assignment3_Part2.ipynb\r\n",
      "Authority Letter for Collection of Passport.pdf\r\n",
      "Breast Cancer Pred Write-up.docx\r\n",
      "\u001b[34mBreast-Cancer-Prediction-Using-ML-Classification-models-master\u001b[m\u001b[m\r\n",
      "Breast-Cancer-Prediction-Using-ML-Classification-models-master.zip\r\n",
      "C--Inetpub-wwwroot-SecureMail-PostEdgeDocuments-Document_2132016_54901_PM_7c56b907-d36b-4d24-87aa-2c83e3c437c4.pdf\r\n",
      "C--Inetpub-wwwroot-SecureMail-PostEdgeDocuments-Document_2132016_54905_PM_4e6c9304-f2bf-4069-a97a-e698638f502e.pdf\r\n",
      "Conditional Approval (1).pdf\r\n",
      "Conditional Approval.pdf\r\n",
      "Copy of 4X6 POSTCARD - OPEN HOUSE INVITE (1).png\r\n",
      "Cover_Letter.docx\r\n",
      "\u001b[34mCurrent Onboarding Attachments\u001b[m\u001b[m\r\n",
      "Current Onboarding Attachments.zip\r\n",
      "Disadvantages of k-NN algorithm.docx\r\n",
      "Disadvantages of k-NN algorithm.pdf\r\n",
      "DoorDash U.S. Employee Handbook (April 2022).pdf\r\n",
      "DoorDash_Corporate_Policies_2022..pdf\r\n",
      "Exit Benefits and Contact Information.pdf\r\n",
      "Finish – Your trip confirmation – American Airlines.htm\r\n",
      "\u001b[34mFinish – Your trip confirmation – American Airlines_files\u001b[m\u001b[m\r\n",
      "Genre.java\r\n",
      "Gradient Boosting Vs Bagging.pdf\r\n",
      "HR_Block_Tax_Software_Premium_2021_with_3_Refund_Bonus_Offer_Amazon_Exclusive_-_Mac_Download.dmg\r\n",
      "Here is your GHC 22 Registration Confirmation! .eml\r\n",
      "IMG-20210602-WA0011.jpg\r\n",
      "IMG_20160529_133348.jpg\r\n",
      "IMG_20160529_133355.jpg\r\n",
      "IMG_20220718_100230722.jpg\r\n",
      "INFO6105_Project.ipynb\r\n",
      "\u001b[34mKenshi-Pavithra-Babyshower\u001b[m\u001b[m\r\n",
      "Lokeswari_CoverLetter.pdf\r\n",
      "MS_diploma.pdf\r\n",
      "MS_transcript.pdf\r\n",
      "MS_transcript2.pdf\r\n",
      "Making Machines Learn.ipynb\r\n",
      "MicrosoftTeams-image.png\r\n",
      "Module V.ipynb\r\n",
      "Module VII classification.ipynb\r\n",
      "Module VII regression.ipynb\r\n",
      "Module_III_code (1) (1).ipynb\r\n",
      "Module_III_code (1).ipynb\r\n",
      "Module_III_code (2).ipynb\r\n",
      "Module_III_code.ipynb\r\n",
      "Movie.java\r\n",
      "PXL_20210527_192321754.jpg\r\n",
      "PXL_20210527_192753687.jpg\r\n",
      "Pavi_coverletter (1).docx\r\n",
      "Pavi_coverletter (2).docx\r\n",
      "Pavi_coverletter.docx\r\n",
      "Pavithra U,(328214)RL (1).pdf\r\n",
      "Pavithra U,(328214)RL (2).pdf\r\n",
      "Pavithra U,(328214)RL.pdf\r\n",
      "Pavithra-Umakanthan.pdf\r\n",
      "PavithraUmakanthan_coverletter_Deltek.docx\r\n",
      "Pavithra_Coverletter (1).docx\r\n",
      "Pavithra_Coverletter (1).pdf\r\n",
      "Pavithra_Coverletter (2).docx\r\n",
      "Pavithra_Coverletter.docx\r\n",
      "Pavithra_Coverletter.pdf\r\n",
      "Pavithra_Redfin_coverletter.pdf\r\n",
      "Pavithra_Resume (003).docx\r\n",
      "Pavithra_Umakanthan_resume.pdf\r\n",
      "Pavithra_cover letter (1).docx\r\n",
      "Pavithra_cover letter (2).docx\r\n",
      "Pavithra_cover letter (3).docx\r\n",
      "Pavithra_cover letter (4).docx\r\n",
      "Pavithra_cover letter.docx\r\n",
      "Pavithra_resume  (1).doc\r\n",
      "Pavithra_resume (1).pdf\r\n",
      "Pavithra_resume .doc\r\n",
      "Pavithra_resume.pdf\r\n",
      "\u001b[34mPhotos\u001b[m\u001b[m\r\n",
      "\u001b[34mPhotos-001\u001b[m\u001b[m\r\n",
      "\u001b[34mPhotos-001 2\u001b[m\u001b[m\r\n",
      "Photos-001.zip\r\n",
      "Photos.zip\r\n",
      "PreferredPosition.xlsx\r\n",
      "Resume202203150840.pdf\r\n",
      "S.docx\r\n",
      "Screen Shot 2022-01-16 at 12.19.13 PM (1).png\r",
      "\r\n",
      "Screen Shot 2022-01-16 at 12.19.13 PM.png\r\n",
      "Sherlock and Array _ Challenge _ Search _ Algorithms _ HackerRank.html\r\n",
      "\u001b[34mSherlock and Array _ Challenge _ Search _ Algorithms _ HackerRank_files\u001b[m\u001b[m\r\n",
      "\u001b[34mSlidebars-0.10.3\u001b[m\u001b[m\r\n",
      "Slidebars-0.10.3.zip\r\n",
      "SoftwareProjects-Experience.pdf\r\n",
      "Summer-Methods & Tools.ipynb\r\n",
      "Tax_Statement_2015 (1).PDF\r\n",
      "Tax_Statement_2015.PDF\r\n",
      "Titanic.csv\r\n",
      "Titanic_II.csv\r\n",
      "Titanic_full.csv\r\n",
      "UG_diploma.pdf\r\n",
      "USASP00B5D17.pdf\r\n",
      "University Diplomas_02122018_0202.pdf\r\n",
      "University Diplomas_02122018_0204.pdf\r\n",
      "University Transcripts_02122018_0205.pdf\r\n",
      "Untitleddocument.docx\r\n",
      "VENKATANATHA 2020 Tax Return.T20\r\n",
      "VENKATANATHA ANNAMALAI 2021 Tax Return.T21\r\n",
      "VENKATANATHA ANNAMALAI 2021 Tax Return.pdf\r\n",
      "Venkat_resume.pdf\r\n",
      "Venkat_resume_011818_latest (1).pdf\r\n",
      "Venkat_resume_011818_latest.docx\r\n",
      "Venkat_resume_011818_latest.pdf\r\n",
      "Venkat_resume_020722_latest.pdf\r\n",
      "Venkat_resume_visa.pdf\r\n",
      "WP_20160506_011.jpg\r\n",
      "WeDash Program Policies_onboarding_.pdf\r\n",
      "Webex.pkg\r\n",
      "WhatsApp Image 2021-06-02 at 1.29.29 PM.jpeg\r\n",
      "WhatsApp Image 2021-07-22 at 1.44.57 PM.jpeg\r\n",
      "WhatsApp Image 2022-02-06 at 10.23.14 PM.jpeg\r\n",
      "WhatsApp Image 2022-03-17 at 1.26.09 PM.jpeg\r\n",
      "WhatsApp Image 2022-03-28 at 1.16.20 PM.jpeg\r\n",
      "WhatsApp Image 2022-06-04 at 9.17.40 PM.jpeg\r\n",
      "WhatsApp Image 2022-06-06 at 10.30.40 AM.jpeg\r\n",
      "WhatsApp Image 2022-06-07 at 2.34.51 PM.jpeg\r\n",
      "bookmarks_7_11_18 (1).html\r\n",
      "bookmarks_7_11_18 (2).html\r\n",
      "bookmarks_7_11_18.html\r\n",
      "download.pdf\r\n",
      "gb.ipynb\r\n",
      "gender_submission.csv\r\n",
      "\u001b[34mgroupon_docs (1)\u001b[m\u001b[m\r\n",
      "groupon_docs (1).zip\r\n",
      "\u001b[34mgroupon_docs (2)\u001b[m\u001b[m\r\n",
      "groupon_docs (2).zip\r\n",
      "\u001b[34mgroupon_docs (3)\u001b[m\u001b[m\r\n",
      "groupon_docs (3).zip\r\n",
      "groupon_docs.zip\r\n",
      "image006.jpg\r\n",
      "income_evaluation.csv\r\n",
      "income_evaluation.csv.zip\r\n",
      "insurance_sample_csv.csv\r\n",
      "java-the-complete-reference-9th-edition.pdf\r\n",
      "java-the-complete-reference-9th-edition.rar\r\n",
      "\u001b[34mknn_model\u001b[m\u001b[m\r\n",
      "macOSUpd10.14.6.dmg\r\n",
      "\u001b[34mmoneytracker\u001b[m\u001b[m\r\n",
      "moneytracker.gz\r\n",
      "pandas_I.ipynb\r\n",
      "pandas_II.ipynb\r\n",
      "pandas_II_solutions.ipynb\r\n",
      "pandas_I_ solutions.ipynb\r\n",
      "pima-indians-diabetes.data\r\n",
      "prequalification letter.pdf\r\n",
      "salary.csv\r\n",
      "salary.csv.zip\r\n",
      "test.csv\r\n",
      "titanic_test_4_ml.csv\r\n",
      "titanic_trn_4_ml.csv\r\n",
      "train.csv\r\n",
      "vannama - 9-15-2020 - 0-08-22_2.pdf\r\n",
      "zoomusInstaller.pkg\r\n"
     ]
    }
   ],
   "source": [
    "!ls"
   ]
  },
  {
   "cell_type": "code",
   "execution_count": 175,
   "metadata": {},
   "outputs": [],
   "source": [
    "path = '/Users/Venkat/Downloads'"
   ]
  },
  {
   "cell_type": "code",
   "execution_count": 176,
   "metadata": {
    "scrolled": true
   },
   "outputs": [
    {
     "name": "stdout",
     "output_type": "stream",
     "text": [
      "(768, 9)\n"
     ]
    },
    {
     "data": {
      "text/html": [
       "<div>\n",
       "<style scoped>\n",
       "    .dataframe tbody tr th:only-of-type {\n",
       "        vertical-align: middle;\n",
       "    }\n",
       "\n",
       "    .dataframe tbody tr th {\n",
       "        vertical-align: top;\n",
       "    }\n",
       "\n",
       "    .dataframe thead th {\n",
       "        text-align: right;\n",
       "    }\n",
       "</style>\n",
       "<table border=\"1\" class=\"dataframe\">\n",
       "  <thead>\n",
       "    <tr style=\"text-align: right;\">\n",
       "      <th></th>\n",
       "      <th>0</th>\n",
       "      <th>1</th>\n",
       "      <th>2</th>\n",
       "      <th>3</th>\n",
       "      <th>4</th>\n",
       "      <th>5</th>\n",
       "      <th>6</th>\n",
       "      <th>7</th>\n",
       "      <th>8</th>\n",
       "    </tr>\n",
       "  </thead>\n",
       "  <tbody>\n",
       "    <tr>\n",
       "      <th>0</th>\n",
       "      <td>6</td>\n",
       "      <td>148</td>\n",
       "      <td>72</td>\n",
       "      <td>35</td>\n",
       "      <td>0</td>\n",
       "      <td>33.6</td>\n",
       "      <td>0.627</td>\n",
       "      <td>50</td>\n",
       "      <td>1</td>\n",
       "    </tr>\n",
       "    <tr>\n",
       "      <th>1</th>\n",
       "      <td>1</td>\n",
       "      <td>85</td>\n",
       "      <td>66</td>\n",
       "      <td>29</td>\n",
       "      <td>0</td>\n",
       "      <td>26.6</td>\n",
       "      <td>0.351</td>\n",
       "      <td>31</td>\n",
       "      <td>0</td>\n",
       "    </tr>\n",
       "  </tbody>\n",
       "</table>\n",
       "</div>"
      ],
      "text/plain": [
       "   0    1   2   3  4     5      6   7  8\n",
       "0  6  148  72  35  0  33.6  0.627  50  1\n",
       "1  1   85  66  29  0  26.6  0.351  31  0"
      ]
     },
     "execution_count": 176,
     "metadata": {},
     "output_type": "execute_result"
    }
   ],
   "source": [
    "df = pd.read_csv(f'{path}/pima-indians-diabetes.data',header = None)\n",
    "print(df.shape)\n",
    "df.head(2)"
   ]
  },
  {
   "cell_type": "code",
   "execution_count": 177,
   "metadata": {},
   "outputs": [
    {
     "data": {
      "text/html": [
       "<div>\n",
       "<style scoped>\n",
       "    .dataframe tbody tr th:only-of-type {\n",
       "        vertical-align: middle;\n",
       "    }\n",
       "\n",
       "    .dataframe tbody tr th {\n",
       "        vertical-align: top;\n",
       "    }\n",
       "\n",
       "    .dataframe thead th {\n",
       "        text-align: right;\n",
       "    }\n",
       "</style>\n",
       "<table border=\"1\" class=\"dataframe\">\n",
       "  <thead>\n",
       "    <tr style=\"text-align: right;\">\n",
       "      <th></th>\n",
       "      <th>0</th>\n",
       "      <th>1</th>\n",
       "      <th>2</th>\n",
       "      <th>3</th>\n",
       "      <th>4</th>\n",
       "      <th>5</th>\n",
       "      <th>6</th>\n",
       "      <th>7</th>\n",
       "      <th>8</th>\n",
       "    </tr>\n",
       "  </thead>\n",
       "  <tbody>\n",
       "    <tr>\n",
       "      <th>0</th>\n",
       "      <td>0.352941</td>\n",
       "      <td>0.743719</td>\n",
       "      <td>0.590164</td>\n",
       "      <td>0.353535</td>\n",
       "      <td>0.000000</td>\n",
       "      <td>0.500745</td>\n",
       "      <td>0.234415</td>\n",
       "      <td>0.483333</td>\n",
       "      <td>1.0</td>\n",
       "    </tr>\n",
       "    <tr>\n",
       "      <th>1</th>\n",
       "      <td>0.058824</td>\n",
       "      <td>0.427136</td>\n",
       "      <td>0.540984</td>\n",
       "      <td>0.292929</td>\n",
       "      <td>0.000000</td>\n",
       "      <td>0.396423</td>\n",
       "      <td>0.116567</td>\n",
       "      <td>0.166667</td>\n",
       "      <td>0.0</td>\n",
       "    </tr>\n",
       "    <tr>\n",
       "      <th>2</th>\n",
       "      <td>0.470588</td>\n",
       "      <td>0.919598</td>\n",
       "      <td>0.524590</td>\n",
       "      <td>0.000000</td>\n",
       "      <td>0.000000</td>\n",
       "      <td>0.347243</td>\n",
       "      <td>0.253629</td>\n",
       "      <td>0.183333</td>\n",
       "      <td>1.0</td>\n",
       "    </tr>\n",
       "    <tr>\n",
       "      <th>3</th>\n",
       "      <td>0.058824</td>\n",
       "      <td>0.447236</td>\n",
       "      <td>0.540984</td>\n",
       "      <td>0.232323</td>\n",
       "      <td>0.111111</td>\n",
       "      <td>0.418778</td>\n",
       "      <td>0.038002</td>\n",
       "      <td>0.000000</td>\n",
       "      <td>0.0</td>\n",
       "    </tr>\n",
       "    <tr>\n",
       "      <th>4</th>\n",
       "      <td>0.000000</td>\n",
       "      <td>0.688442</td>\n",
       "      <td>0.327869</td>\n",
       "      <td>0.353535</td>\n",
       "      <td>0.198582</td>\n",
       "      <td>0.642325</td>\n",
       "      <td>0.943638</td>\n",
       "      <td>0.200000</td>\n",
       "      <td>1.0</td>\n",
       "    </tr>\n",
       "  </tbody>\n",
       "</table>\n",
       "</div>"
      ],
      "text/plain": [
       "          0         1         2         3         4         5         6  \\\n",
       "0  0.352941  0.743719  0.590164  0.353535  0.000000  0.500745  0.234415   \n",
       "1  0.058824  0.427136  0.540984  0.292929  0.000000  0.396423  0.116567   \n",
       "2  0.470588  0.919598  0.524590  0.000000  0.000000  0.347243  0.253629   \n",
       "3  0.058824  0.447236  0.540984  0.232323  0.111111  0.418778  0.038002   \n",
       "4  0.000000  0.688442  0.327869  0.353535  0.198582  0.642325  0.943638   \n",
       "\n",
       "          7    8  \n",
       "0  0.483333  1.0  \n",
       "1  0.166667  0.0  \n",
       "2  0.183333  1.0  \n",
       "3  0.000000  0.0  \n",
       "4  0.200000  1.0  "
      ]
     },
     "execution_count": 177,
     "metadata": {},
     "output_type": "execute_result"
    }
   ],
   "source": [
    "from sklearn.preprocessing import MinMaxScaler\n",
    "scaler = MinMaxScaler()\n",
    "df = pd.DataFrame(scaler.fit_transform(df), columns = df.columns)\n",
    "df.head()"
   ]
  },
  {
   "cell_type": "code",
   "execution_count": 178,
   "metadata": {},
   "outputs": [
    {
     "data": {
      "text/plain": [
       "0    False\n",
       "1    False\n",
       "2    False\n",
       "3    False\n",
       "4    False\n",
       "5    False\n",
       "6    False\n",
       "7    False\n",
       "8    False\n",
       "dtype: bool"
      ]
     },
     "execution_count": 178,
     "metadata": {},
     "output_type": "execute_result"
    }
   ],
   "source": [
    "#Checking for any values are missing.\n",
    "\n",
    "df.isna().any()\n"
   ]
  },
  {
   "cell_type": "code",
   "execution_count": 179,
   "metadata": {},
   "outputs": [],
   "source": [
    "#(Part b) Split the entire dataset into three parts instead of two as we currently do.\n",
    "#One is train, two is validation, and then a test set. Build DNN model with train data,\n",
    "#tune hyper-parameters with validation data, and finally evaluate performance on the test data (5 marks)"
   ]
  },
  {
   "cell_type": "markdown",
   "metadata": {},
   "source": [
    "# Pre-process data, train-test split"
   ]
  },
  {
   "cell_type": "code",
   "execution_count": 180,
   "metadata": {},
   "outputs": [],
   "source": [
    "#Separate out X and Y\n",
    "\n",
    "X = df.iloc[:, :8]\n",
    "Y = df.iloc[:, 8:9]"
   ]
  },
  {
   "cell_type": "code",
   "execution_count": 181,
   "metadata": {},
   "outputs": [
    {
     "name": "stdout",
     "output_type": "stream",
     "text": [
      "(514, 8) (254, 8) (514, 1) (254, 1)\n"
     ]
    }
   ],
   "source": [
    "# Train- Test Split\n",
    "(X_train, X_test, Y_train, Y_test) = train_test_split(X, Y, test_size=0.33, random_state=1)\n",
    "print(X_train.shape,X_test.shape,Y_train.shape,Y_test.shape)"
   ]
  },
  {
   "cell_type": "code",
   "execution_count": 182,
   "metadata": {},
   "outputs": [
    {
     "name": "stdout",
     "output_type": "stream",
     "text": [
      "(411, 8) (103, 8) (411, 1) (103, 1)\n"
     ]
    }
   ],
   "source": [
    "# Train-validation Split\n",
    "(X_train, X_valid, Y_train, Y_valid) = train_test_split(X_train, Y_train, test_size=0.20, random_state=1)\n",
    "print(X_train.shape,X_valid.shape,Y_train.shape,Y_valid.shape)"
   ]
  },
  {
   "cell_type": "markdown",
   "metadata": {},
   "source": [
    "# Build and compile a deep learning model"
   ]
  },
  {
   "cell_type": "code",
   "execution_count": 183,
   "metadata": {},
   "outputs": [],
   "source": [
    "# Build the deep neural network\n",
    "model = Sequential()\n",
    "model.add(Dense(10, input_dim=8, activation='relu'))\n",
    "model.add(Dense(6, activation='relu'))\n",
    "model.add(Dense(1, activation='sigmoid'))"
   ]
  },
  {
   "cell_type": "code",
   "execution_count": 184,
   "metadata": {},
   "outputs": [],
   "source": [
    "# Compile the DNN\n",
    "\n",
    "model.compile(loss='binary_crossentropy', optimizer='adam', metrics=['accuracy'])"
   ]
  },
  {
   "cell_type": "code",
   "execution_count": 185,
   "metadata": {},
   "outputs": [
    {
     "name": "stdout",
     "output_type": "stream",
     "text": [
      "Epoch 1/100\n",
      "83/83 [==============================] - 3s 10ms/step - loss: 0.6552 - accuracy: 0.6642 - val_loss: 0.6638 - val_accuracy: 0.6378\n",
      "Epoch 2/100\n",
      "83/83 [==============================] - 0s 5ms/step - loss: 0.6389 - accuracy: 0.6642 - val_loss: 0.6598 - val_accuracy: 0.6378\n",
      "Epoch 3/100\n",
      "83/83 [==============================] - 0s 6ms/step - loss: 0.6304 - accuracy: 0.6642 - val_loss: 0.6558 - val_accuracy: 0.6378\n",
      "Epoch 4/100\n",
      "83/83 [==============================] - 0s 6ms/step - loss: 0.6237 - accuracy: 0.6642 - val_loss: 0.6538 - val_accuracy: 0.6378\n",
      "Epoch 5/100\n",
      "83/83 [==============================] - 0s 5ms/step - loss: 0.6186 - accuracy: 0.6642 - val_loss: 0.6479 - val_accuracy: 0.6378\n",
      "Epoch 6/100\n",
      "83/83 [==============================] - 0s 4ms/step - loss: 0.6134 - accuracy: 0.6642 - val_loss: 0.6416 - val_accuracy: 0.6378\n",
      "Epoch 7/100\n",
      "83/83 [==============================] - 0s 6ms/step - loss: 0.6078 - accuracy: 0.6642 - val_loss: 0.6359 - val_accuracy: 0.6378\n",
      "Epoch 8/100\n",
      "83/83 [==============================] - 0s 4ms/step - loss: 0.5996 - accuracy: 0.6642 - val_loss: 0.6290 - val_accuracy: 0.6378\n",
      "Epoch 9/100\n",
      "83/83 [==============================] - 0s 4ms/step - loss: 0.5943 - accuracy: 0.6618 - val_loss: 0.6285 - val_accuracy: 0.6378\n",
      "Epoch 10/100\n",
      "83/83 [==============================] - 0s 5ms/step - loss: 0.5873 - accuracy: 0.6618 - val_loss: 0.6135 - val_accuracy: 0.6496\n",
      "Epoch 11/100\n",
      "83/83 [==============================] - 0s 5ms/step - loss: 0.5818 - accuracy: 0.6788 - val_loss: 0.6069 - val_accuracy: 0.6457\n",
      "Epoch 12/100\n",
      "83/83 [==============================] - 0s 5ms/step - loss: 0.5737 - accuracy: 0.7032 - val_loss: 0.5982 - val_accuracy: 0.6575\n",
      "Epoch 13/100\n",
      "83/83 [==============================] - 0s 5ms/step - loss: 0.5689 - accuracy: 0.7153 - val_loss: 0.5932 - val_accuracy: 0.6654\n",
      "Epoch 14/100\n",
      "83/83 [==============================] - 0s 4ms/step - loss: 0.5652 - accuracy: 0.7080 - val_loss: 0.5889 - val_accuracy: 0.6693\n",
      "Epoch 15/100\n",
      "83/83 [==============================] - 0s 4ms/step - loss: 0.5581 - accuracy: 0.7056 - val_loss: 0.5828 - val_accuracy: 0.6850\n",
      "Epoch 16/100\n",
      "83/83 [==============================] - 0s 5ms/step - loss: 0.5531 - accuracy: 0.7080 - val_loss: 0.5777 - val_accuracy: 0.6811\n",
      "Epoch 17/100\n",
      "83/83 [==============================] - 0s 5ms/step - loss: 0.5479 - accuracy: 0.7129 - val_loss: 0.5803 - val_accuracy: 0.6772\n",
      "Epoch 18/100\n",
      "83/83 [==============================] - 0s 6ms/step - loss: 0.5441 - accuracy: 0.7153 - val_loss: 0.5718 - val_accuracy: 0.6969\n",
      "Epoch 19/100\n",
      "83/83 [==============================] - 0s 5ms/step - loss: 0.5448 - accuracy: 0.7056 - val_loss: 0.5668 - val_accuracy: 0.7047\n",
      "Epoch 20/100\n",
      "83/83 [==============================] - 0s 4ms/step - loss: 0.5392 - accuracy: 0.7178 - val_loss: 0.5617 - val_accuracy: 0.7047\n",
      "Epoch 21/100\n",
      "83/83 [==============================] - 0s 4ms/step - loss: 0.5342 - accuracy: 0.7056 - val_loss: 0.5609 - val_accuracy: 0.7126\n",
      "Epoch 22/100\n",
      "83/83 [==============================] - 0s 4ms/step - loss: 0.5321 - accuracy: 0.7226 - val_loss: 0.5555 - val_accuracy: 0.7087\n",
      "Epoch 23/100\n",
      "83/83 [==============================] - 0s 4ms/step - loss: 0.5279 - accuracy: 0.7202 - val_loss: 0.5514 - val_accuracy: 0.7244\n",
      "Epoch 24/100\n",
      "83/83 [==============================] - 0s 4ms/step - loss: 0.5263 - accuracy: 0.7032 - val_loss: 0.5602 - val_accuracy: 0.7087\n",
      "Epoch 25/100\n",
      "83/83 [==============================] - 0s 4ms/step - loss: 0.5229 - accuracy: 0.7153 - val_loss: 0.5461 - val_accuracy: 0.7362\n",
      "Epoch 26/100\n",
      "83/83 [==============================] - 1s 10ms/step - loss: 0.5201 - accuracy: 0.7153 - val_loss: 0.5510 - val_accuracy: 0.7126\n",
      "Epoch 27/100\n",
      "83/83 [==============================] - 0s 5ms/step - loss: 0.5190 - accuracy: 0.7299 - val_loss: 0.5439 - val_accuracy: 0.7323\n",
      "Epoch 28/100\n",
      "83/83 [==============================] - 0s 4ms/step - loss: 0.5172 - accuracy: 0.7178 - val_loss: 0.5395 - val_accuracy: 0.7402\n",
      "Epoch 29/100\n",
      "83/83 [==============================] - 0s 4ms/step - loss: 0.5171 - accuracy: 0.7202 - val_loss: 0.5371 - val_accuracy: 0.7441\n",
      "Epoch 30/100\n",
      "83/83 [==============================] - 0s 4ms/step - loss: 0.5152 - accuracy: 0.7397 - val_loss: 0.5387 - val_accuracy: 0.7323\n",
      "Epoch 31/100\n",
      "83/83 [==============================] - 0s 4ms/step - loss: 0.5098 - accuracy: 0.7202 - val_loss: 0.5352 - val_accuracy: 0.7402\n",
      "Epoch 32/100\n",
      "83/83 [==============================] - 0s 3ms/step - loss: 0.5083 - accuracy: 0.7397 - val_loss: 0.5387 - val_accuracy: 0.7362\n",
      "Epoch 33/100\n",
      "83/83 [==============================] - 0s 4ms/step - loss: 0.5031 - accuracy: 0.7299 - val_loss: 0.5289 - val_accuracy: 0.7520\n",
      "Epoch 34/100\n",
      "83/83 [==============================] - 0s 4ms/step - loss: 0.5055 - accuracy: 0.7421 - val_loss: 0.5374 - val_accuracy: 0.7402\n",
      "Epoch 35/100\n",
      "83/83 [==============================] - 0s 4ms/step - loss: 0.5031 - accuracy: 0.7372 - val_loss: 0.5273 - val_accuracy: 0.7402\n",
      "Epoch 36/100\n",
      "83/83 [==============================] - 0s 4ms/step - loss: 0.5005 - accuracy: 0.7372 - val_loss: 0.5259 - val_accuracy: 0.7480\n",
      "Epoch 37/100\n",
      "83/83 [==============================] - 0s 4ms/step - loss: 0.5001 - accuracy: 0.7518 - val_loss: 0.5221 - val_accuracy: 0.7559\n",
      "Epoch 38/100\n",
      "83/83 [==============================] - 0s 4ms/step - loss: 0.4994 - accuracy: 0.7397 - val_loss: 0.5227 - val_accuracy: 0.7520\n",
      "Epoch 39/100\n",
      "83/83 [==============================] - 0s 4ms/step - loss: 0.4960 - accuracy: 0.7397 - val_loss: 0.5198 - val_accuracy: 0.7677\n",
      "Epoch 40/100\n",
      "83/83 [==============================] - 0s 4ms/step - loss: 0.4913 - accuracy: 0.7664 - val_loss: 0.5342 - val_accuracy: 0.7441\n",
      "Epoch 41/100\n",
      "83/83 [==============================] - 0s 3ms/step - loss: 0.4953 - accuracy: 0.7640 - val_loss: 0.5306 - val_accuracy: 0.7441\n",
      "Epoch 42/100\n",
      "83/83 [==============================] - 0s 4ms/step - loss: 0.4924 - accuracy: 0.7421 - val_loss: 0.5156 - val_accuracy: 0.7559\n",
      "Epoch 43/100\n",
      "83/83 [==============================] - 0s 4ms/step - loss: 0.4884 - accuracy: 0.7494 - val_loss: 0.5125 - val_accuracy: 0.7598\n",
      "Epoch 44/100\n",
      "83/83 [==============================] - 0s 3ms/step - loss: 0.4893 - accuracy: 0.7567 - val_loss: 0.5113 - val_accuracy: 0.7677\n",
      "Epoch 45/100\n",
      "83/83 [==============================] - 0s 3ms/step - loss: 0.4858 - accuracy: 0.7470 - val_loss: 0.5100 - val_accuracy: 0.7756\n",
      "Epoch 46/100\n",
      "83/83 [==============================] - 0s 4ms/step - loss: 0.4851 - accuracy: 0.7518 - val_loss: 0.5081 - val_accuracy: 0.7756\n",
      "Epoch 47/100\n",
      "83/83 [==============================] - 0s 6ms/step - loss: 0.4845 - accuracy: 0.7518 - val_loss: 0.5094 - val_accuracy: 0.7638\n",
      "Epoch 48/100\n",
      "83/83 [==============================] - 1s 8ms/step - loss: 0.4826 - accuracy: 0.7591 - val_loss: 0.5073 - val_accuracy: 0.7677\n",
      "Epoch 49/100\n",
      "83/83 [==============================] - 0s 5ms/step - loss: 0.4803 - accuracy: 0.7616 - val_loss: 0.5119 - val_accuracy: 0.7638\n",
      "Epoch 50/100\n",
      "83/83 [==============================] - 0s 5ms/step - loss: 0.4811 - accuracy: 0.7689 - val_loss: 0.5097 - val_accuracy: 0.7638\n",
      "Epoch 51/100\n",
      "83/83 [==============================] - 0s 4ms/step - loss: 0.4795 - accuracy: 0.7591 - val_loss: 0.5060 - val_accuracy: 0.7756\n",
      "Epoch 52/100\n",
      "83/83 [==============================] - 0s 4ms/step - loss: 0.4818 - accuracy: 0.7591 - val_loss: 0.5083 - val_accuracy: 0.7638\n",
      "Epoch 53/100\n",
      "83/83 [==============================] - 0s 3ms/step - loss: 0.4796 - accuracy: 0.7567 - val_loss: 0.5041 - val_accuracy: 0.7795\n",
      "Epoch 54/100\n",
      "83/83 [==============================] - 0s 4ms/step - loss: 0.4744 - accuracy: 0.7567 - val_loss: 0.5005 - val_accuracy: 0.7795\n",
      "Epoch 55/100\n",
      "83/83 [==============================] - 0s 3ms/step - loss: 0.4771 - accuracy: 0.7664 - val_loss: 0.4996 - val_accuracy: 0.7756\n",
      "Epoch 56/100\n",
      "83/83 [==============================] - 0s 5ms/step - loss: 0.4731 - accuracy: 0.7689 - val_loss: 0.5032 - val_accuracy: 0.7756\n",
      "Epoch 57/100\n",
      "83/83 [==============================] - 0s 6ms/step - loss: 0.4718 - accuracy: 0.7664 - val_loss: 0.5011 - val_accuracy: 0.7717\n",
      "Epoch 58/100\n",
      "83/83 [==============================] - 0s 6ms/step - loss: 0.4690 - accuracy: 0.7591 - val_loss: 0.4980 - val_accuracy: 0.7835\n"
     ]
    },
    {
     "name": "stdout",
     "output_type": "stream",
     "text": [
      "Epoch 59/100\n",
      "83/83 [==============================] - 1s 7ms/step - loss: 0.4692 - accuracy: 0.7664 - val_loss: 0.4988 - val_accuracy: 0.7795\n",
      "Epoch 60/100\n",
      "83/83 [==============================] - 0s 6ms/step - loss: 0.4727 - accuracy: 0.7713 - val_loss: 0.4969 - val_accuracy: 0.7835\n",
      "Epoch 61/100\n",
      "83/83 [==============================] - 0s 5ms/step - loss: 0.4670 - accuracy: 0.7689 - val_loss: 0.4971 - val_accuracy: 0.7874\n",
      "Epoch 62/100\n",
      "83/83 [==============================] - 1s 9ms/step - loss: 0.4680 - accuracy: 0.7664 - val_loss: 0.4946 - val_accuracy: 0.7717\n",
      "Epoch 63/100\n",
      "83/83 [==============================] - 0s 4ms/step - loss: 0.4675 - accuracy: 0.7689 - val_loss: 0.4928 - val_accuracy: 0.7717\n",
      "Epoch 64/100\n",
      "83/83 [==============================] - 0s 4ms/step - loss: 0.4660 - accuracy: 0.7737 - val_loss: 0.4966 - val_accuracy: 0.7874\n",
      "Epoch 65/100\n",
      "83/83 [==============================] - 0s 4ms/step - loss: 0.4639 - accuracy: 0.7810 - val_loss: 0.4932 - val_accuracy: 0.7756\n",
      "Epoch 66/100\n",
      "83/83 [==============================] - 0s 4ms/step - loss: 0.4633 - accuracy: 0.7786 - val_loss: 0.4930 - val_accuracy: 0.7835\n",
      "Epoch 67/100\n",
      "83/83 [==============================] - 0s 3ms/step - loss: 0.4625 - accuracy: 0.7737 - val_loss: 0.4915 - val_accuracy: 0.7756\n",
      "Epoch 68/100\n",
      "83/83 [==============================] - 0s 3ms/step - loss: 0.4598 - accuracy: 0.7616 - val_loss: 0.4984 - val_accuracy: 0.7795\n",
      "Epoch 69/100\n",
      "83/83 [==============================] - 0s 3ms/step - loss: 0.4622 - accuracy: 0.7810 - val_loss: 0.4916 - val_accuracy: 0.7756\n",
      "Epoch 70/100\n",
      "83/83 [==============================] - 0s 4ms/step - loss: 0.4603 - accuracy: 0.7859 - val_loss: 0.4923 - val_accuracy: 0.7795\n",
      "Epoch 71/100\n",
      "83/83 [==============================] - 0s 3ms/step - loss: 0.4601 - accuracy: 0.7713 - val_loss: 0.4895 - val_accuracy: 0.7795\n",
      "Epoch 72/100\n",
      "83/83 [==============================] - 0s 4ms/step - loss: 0.4592 - accuracy: 0.7932 - val_loss: 0.4877 - val_accuracy: 0.7874\n",
      "Epoch 73/100\n",
      "83/83 [==============================] - 0s 4ms/step - loss: 0.4595 - accuracy: 0.7689 - val_loss: 0.5022 - val_accuracy: 0.7717\n",
      "Epoch 74/100\n",
      "83/83 [==============================] - 0s 3ms/step - loss: 0.4579 - accuracy: 0.7786 - val_loss: 0.4889 - val_accuracy: 0.7795\n",
      "Epoch 75/100\n",
      "83/83 [==============================] - 0s 3ms/step - loss: 0.4552 - accuracy: 0.7908 - val_loss: 0.4968 - val_accuracy: 0.7835\n",
      "Epoch 76/100\n",
      "83/83 [==============================] - 0s 3ms/step - loss: 0.4571 - accuracy: 0.7810 - val_loss: 0.4877 - val_accuracy: 0.7835\n",
      "Epoch 77/100\n",
      "83/83 [==============================] - 0s 3ms/step - loss: 0.4551 - accuracy: 0.7883 - val_loss: 0.4859 - val_accuracy: 0.7913\n",
      "Epoch 78/100\n",
      "83/83 [==============================] - 0s 3ms/step - loss: 0.4571 - accuracy: 0.7786 - val_loss: 0.4860 - val_accuracy: 0.7795\n",
      "Epoch 79/100\n",
      "83/83 [==============================] - 0s 3ms/step - loss: 0.4554 - accuracy: 0.7810 - val_loss: 0.4898 - val_accuracy: 0.7874\n",
      "Epoch 80/100\n",
      "83/83 [==============================] - 0s 3ms/step - loss: 0.4540 - accuracy: 0.7859 - val_loss: 0.4857 - val_accuracy: 0.7795\n",
      "Epoch 81/100\n",
      "83/83 [==============================] - 0s 3ms/step - loss: 0.4534 - accuracy: 0.7883 - val_loss: 0.4834 - val_accuracy: 0.7913\n",
      "Epoch 82/100\n",
      "83/83 [==============================] - 0s 3ms/step - loss: 0.4544 - accuracy: 0.7810 - val_loss: 0.4859 - val_accuracy: 0.7835\n",
      "Epoch 83/100\n",
      "83/83 [==============================] - 0s 3ms/step - loss: 0.4523 - accuracy: 0.8005 - val_loss: 0.4842 - val_accuracy: 0.7874\n",
      "Epoch 84/100\n",
      "83/83 [==============================] - 0s 3ms/step - loss: 0.4524 - accuracy: 0.7859 - val_loss: 0.4825 - val_accuracy: 0.7835\n",
      "Epoch 85/100\n",
      "83/83 [==============================] - 0s 3ms/step - loss: 0.4519 - accuracy: 0.7786 - val_loss: 0.4862 - val_accuracy: 0.7835\n",
      "Epoch 86/100\n",
      "83/83 [==============================] - 0s 3ms/step - loss: 0.4550 - accuracy: 0.7932 - val_loss: 0.4857 - val_accuracy: 0.7835\n",
      "Epoch 87/100\n",
      "83/83 [==============================] - 0s 3ms/step - loss: 0.4496 - accuracy: 0.7908 - val_loss: 0.4813 - val_accuracy: 0.7835\n",
      "Epoch 88/100\n",
      "83/83 [==============================] - 0s 3ms/step - loss: 0.4547 - accuracy: 0.7932 - val_loss: 0.4927 - val_accuracy: 0.7756\n",
      "Epoch 89/100\n",
      "83/83 [==============================] - 0s 3ms/step - loss: 0.4507 - accuracy: 0.7932 - val_loss: 0.4834 - val_accuracy: 0.7835\n",
      "Epoch 90/100\n",
      "83/83 [==============================] - 0s 3ms/step - loss: 0.4497 - accuracy: 0.7908 - val_loss: 0.4889 - val_accuracy: 0.7835\n",
      "Epoch 91/100\n",
      "83/83 [==============================] - 0s 3ms/step - loss: 0.4514 - accuracy: 0.7932 - val_loss: 0.4858 - val_accuracy: 0.7874\n",
      "Epoch 92/100\n",
      "83/83 [==============================] - 0s 3ms/step - loss: 0.4522 - accuracy: 0.7883 - val_loss: 0.4813 - val_accuracy: 0.7874\n",
      "Epoch 93/100\n",
      "83/83 [==============================] - 0s 3ms/step - loss: 0.4494 - accuracy: 0.7883 - val_loss: 0.4810 - val_accuracy: 0.7874\n",
      "Epoch 94/100\n",
      "83/83 [==============================] - 0s 3ms/step - loss: 0.4486 - accuracy: 0.7908 - val_loss: 0.4806 - val_accuracy: 0.7835\n",
      "Epoch 95/100\n",
      "83/83 [==============================] - 0s 4ms/step - loss: 0.4513 - accuracy: 0.7810 - val_loss: 0.4842 - val_accuracy: 0.7874\n",
      "Epoch 96/100\n",
      "83/83 [==============================] - 0s 3ms/step - loss: 0.4489 - accuracy: 0.7859 - val_loss: 0.4818 - val_accuracy: 0.7913\n",
      "Epoch 97/100\n",
      "83/83 [==============================] - 0s 3ms/step - loss: 0.4499 - accuracy: 0.8005 - val_loss: 0.4829 - val_accuracy: 0.7874\n",
      "Epoch 98/100\n",
      "83/83 [==============================] - 0s 3ms/step - loss: 0.4478 - accuracy: 0.7859 - val_loss: 0.4823 - val_accuracy: 0.7913\n",
      "Epoch 99/100\n",
      "83/83 [==============================] - 0s 3ms/step - loss: 0.4483 - accuracy: 0.7835 - val_loss: 0.4775 - val_accuracy: 0.7835\n",
      "Epoch 100/100\n",
      "83/83 [==============================] - 0s 3ms/step - loss: 0.4488 - accuracy: 0.7908 - val_loss: 0.4784 - val_accuracy: 0.7835\n"
     ]
    }
   ],
   "source": [
    "# Fit the DNN with your train data\n",
    "\n",
    "history = model.fit(X_train, Y_train, validation_data=(X_test, Y_test), epochs=100, batch_size=5)"
   ]
  },
  {
   "cell_type": "code",
   "execution_count": 186,
   "metadata": {},
   "outputs": [
    {
     "name": "stdout",
     "output_type": "stream",
     "text": [
      "8/8 [==============================] - 0s 4ms/step - loss: 0.4784 - accuracy: 0.7835\n",
      "Accuracy: 78.35%\n"
     ]
    }
   ],
   "source": [
    "# Evaluate the model\n",
    "scores = model.evaluate(X_test, Y_test)\n",
    "print (\"Accuracy: %.2f%%\" %(scores[1]*100))"
   ]
  },
  {
   "cell_type": "code",
   "execution_count": 187,
   "metadata": {},
   "outputs": [],
   "source": [
    "### changing the Hyperparameter- loss, batch-size and epochs\n",
    "\n",
    "# Build the deep neural network\n",
    "model1 = Sequential()\n",
    "model1.add(Dense(10, input_dim=8,  activation='relu'))\n",
    "model1.add(Dense(6, activation='relu'))\n",
    "model1.add(Dense(1,  activation='sigmoid'))"
   ]
  },
  {
   "cell_type": "code",
   "execution_count": 188,
   "metadata": {},
   "outputs": [],
   "source": [
    "###compile\n",
    "model1.compile(\n",
    "    optimizer='adam',\n",
    "    loss='mean_squared_error',\n",
    "    metrics=['accuracy']\n",
    "  )"
   ]
  },
  {
   "cell_type": "code",
   "execution_count": 189,
   "metadata": {},
   "outputs": [
    {
     "name": "stdout",
     "output_type": "stream",
     "text": [
      "Epoch 1/50\n",
      "42/42 [==============================] - 2s 10ms/step - loss: 0.2504 - accuracy: 0.5231 - val_loss: 0.2482 - val_accuracy: 0.6311\n",
      "Epoch 2/50\n",
      "42/42 [==============================] - 0s 3ms/step - loss: 0.2361 - accuracy: 0.6569 - val_loss: 0.2440 - val_accuracy: 0.6311\n",
      "Epoch 3/50\n",
      "42/42 [==============================] - 0s 3ms/step - loss: 0.2300 - accuracy: 0.6642 - val_loss: 0.2404 - val_accuracy: 0.6311\n",
      "Epoch 4/50\n",
      "42/42 [==============================] - 0s 3ms/step - loss: 0.2251 - accuracy: 0.6715 - val_loss: 0.2357 - val_accuracy: 0.6505\n",
      "Epoch 5/50\n",
      "42/42 [==============================] - 0s 3ms/step - loss: 0.2220 - accuracy: 0.6740 - val_loss: 0.2339 - val_accuracy: 0.6408\n",
      "Epoch 6/50\n",
      "42/42 [==============================] - 0s 3ms/step - loss: 0.2188 - accuracy: 0.6837 - val_loss: 0.2303 - val_accuracy: 0.6505\n",
      "Epoch 7/50\n",
      "42/42 [==============================] - 0s 3ms/step - loss: 0.2165 - accuracy: 0.6861 - val_loss: 0.2271 - val_accuracy: 0.6602\n",
      "Epoch 8/50\n",
      "42/42 [==============================] - 0s 3ms/step - loss: 0.2142 - accuracy: 0.6764 - val_loss: 0.2263 - val_accuracy: 0.6602\n",
      "Epoch 9/50\n",
      "42/42 [==============================] - 0s 3ms/step - loss: 0.2115 - accuracy: 0.6910 - val_loss: 0.2226 - val_accuracy: 0.6602\n",
      "Epoch 10/50\n",
      "42/42 [==============================] - 0s 4ms/step - loss: 0.2099 - accuracy: 0.6934 - val_loss: 0.2206 - val_accuracy: 0.6602\n",
      "Epoch 11/50\n",
      "42/42 [==============================] - 0s 3ms/step - loss: 0.2073 - accuracy: 0.7032 - val_loss: 0.2195 - val_accuracy: 0.6602\n",
      "Epoch 12/50\n",
      "42/42 [==============================] - 0s 3ms/step - loss: 0.2057 - accuracy: 0.6983 - val_loss: 0.2170 - val_accuracy: 0.6602\n",
      "Epoch 13/50\n",
      "42/42 [==============================] - 0s 3ms/step - loss: 0.2036 - accuracy: 0.7032 - val_loss: 0.2146 - val_accuracy: 0.6699\n",
      "Epoch 14/50\n",
      "42/42 [==============================] - 0s 3ms/step - loss: 0.2021 - accuracy: 0.7080 - val_loss: 0.2133 - val_accuracy: 0.6699\n",
      "Epoch 15/50\n",
      "42/42 [==============================] - 0s 3ms/step - loss: 0.2000 - accuracy: 0.7032 - val_loss: 0.2105 - val_accuracy: 0.6699\n",
      "Epoch 16/50\n",
      "42/42 [==============================] - 0s 3ms/step - loss: 0.1979 - accuracy: 0.7056 - val_loss: 0.2075 - val_accuracy: 0.6796\n",
      "Epoch 17/50\n",
      "42/42 [==============================] - 0s 3ms/step - loss: 0.1961 - accuracy: 0.7080 - val_loss: 0.2052 - val_accuracy: 0.6893\n",
      "Epoch 18/50\n",
      "42/42 [==============================] - 0s 3ms/step - loss: 0.1947 - accuracy: 0.7080 - val_loss: 0.2027 - val_accuracy: 0.6893\n",
      "Epoch 19/50\n",
      "42/42 [==============================] - 0s 3ms/step - loss: 0.1919 - accuracy: 0.7129 - val_loss: 0.1994 - val_accuracy: 0.6990\n",
      "Epoch 20/50\n",
      "42/42 [==============================] - 0s 3ms/step - loss: 0.1891 - accuracy: 0.7153 - val_loss: 0.1966 - val_accuracy: 0.6893\n",
      "Epoch 21/50\n",
      "42/42 [==============================] - 0s 3ms/step - loss: 0.1873 - accuracy: 0.7105 - val_loss: 0.1933 - val_accuracy: 0.7184\n",
      "Epoch 22/50\n",
      "42/42 [==============================] - 0s 3ms/step - loss: 0.1883 - accuracy: 0.6983 - val_loss: 0.1919 - val_accuracy: 0.6990\n",
      "Epoch 23/50\n",
      "42/42 [==============================] - 0s 3ms/step - loss: 0.1838 - accuracy: 0.7153 - val_loss: 0.1902 - val_accuracy: 0.7087\n",
      "Epoch 24/50\n",
      "42/42 [==============================] - 0s 3ms/step - loss: 0.1818 - accuracy: 0.7275 - val_loss: 0.1872 - val_accuracy: 0.7282\n",
      "Epoch 25/50\n",
      "42/42 [==============================] - 0s 3ms/step - loss: 0.1815 - accuracy: 0.7324 - val_loss: 0.1864 - val_accuracy: 0.7282\n",
      "Epoch 26/50\n",
      "42/42 [==============================] - 0s 3ms/step - loss: 0.1798 - accuracy: 0.7324 - val_loss: 0.1838 - val_accuracy: 0.6893\n",
      "Epoch 27/50\n",
      "42/42 [==============================] - 0s 3ms/step - loss: 0.1788 - accuracy: 0.7324 - val_loss: 0.1830 - val_accuracy: 0.7379\n",
      "Epoch 28/50\n",
      "42/42 [==============================] - 0s 3ms/step - loss: 0.1782 - accuracy: 0.7348 - val_loss: 0.1828 - val_accuracy: 0.7184\n",
      "Epoch 29/50\n",
      "42/42 [==============================] - 0s 3ms/step - loss: 0.1758 - accuracy: 0.7324 - val_loss: 0.1814 - val_accuracy: 0.7379\n",
      "Epoch 30/50\n",
      "42/42 [==============================] - 0s 3ms/step - loss: 0.1764 - accuracy: 0.7251 - val_loss: 0.1796 - val_accuracy: 0.7379\n",
      "Epoch 31/50\n",
      "42/42 [==============================] - 0s 3ms/step - loss: 0.1749 - accuracy: 0.7324 - val_loss: 0.1792 - val_accuracy: 0.7184\n",
      "Epoch 32/50\n",
      "42/42 [==============================] - 0s 3ms/step - loss: 0.1752 - accuracy: 0.7348 - val_loss: 0.1778 - val_accuracy: 0.7573\n",
      "Epoch 33/50\n",
      "42/42 [==============================] - 0s 3ms/step - loss: 0.1721 - accuracy: 0.7324 - val_loss: 0.1767 - val_accuracy: 0.7573\n",
      "Epoch 34/50\n",
      "42/42 [==============================] - 0s 3ms/step - loss: 0.1720 - accuracy: 0.7421 - val_loss: 0.1760 - val_accuracy: 0.7379\n",
      "Epoch 35/50\n",
      "42/42 [==============================] - 0s 3ms/step - loss: 0.1715 - accuracy: 0.7494 - val_loss: 0.1770 - val_accuracy: 0.7282\n",
      "Epoch 36/50\n",
      "42/42 [==============================] - 0s 3ms/step - loss: 0.1711 - accuracy: 0.7421 - val_loss: 0.1749 - val_accuracy: 0.7573\n",
      "Epoch 37/50\n",
      "42/42 [==============================] - 0s 3ms/step - loss: 0.1698 - accuracy: 0.7372 - val_loss: 0.1771 - val_accuracy: 0.7476\n",
      "Epoch 38/50\n",
      "42/42 [==============================] - 0s 3ms/step - loss: 0.1697 - accuracy: 0.7299 - val_loss: 0.1724 - val_accuracy: 0.7476\n",
      "Epoch 39/50\n",
      "42/42 [==============================] - 0s 3ms/step - loss: 0.1680 - accuracy: 0.7397 - val_loss: 0.1734 - val_accuracy: 0.7476\n",
      "Epoch 40/50\n",
      "42/42 [==============================] - 0s 3ms/step - loss: 0.1691 - accuracy: 0.7299 - val_loss: 0.1704 - val_accuracy: 0.7379\n",
      "Epoch 41/50\n",
      "42/42 [==============================] - 0s 3ms/step - loss: 0.1669 - accuracy: 0.7445 - val_loss: 0.1711 - val_accuracy: 0.7476\n",
      "Epoch 42/50\n",
      "42/42 [==============================] - 0s 3ms/step - loss: 0.1660 - accuracy: 0.7543 - val_loss: 0.1691 - val_accuracy: 0.7670\n",
      "Epoch 43/50\n",
      "42/42 [==============================] - 0s 3ms/step - loss: 0.1659 - accuracy: 0.7518 - val_loss: 0.1683 - val_accuracy: 0.7670\n",
      "Epoch 44/50\n",
      "42/42 [==============================] - 0s 3ms/step - loss: 0.1664 - accuracy: 0.7445 - val_loss: 0.1677 - val_accuracy: 0.7670\n",
      "Epoch 45/50\n",
      "42/42 [==============================] - 0s 4ms/step - loss: 0.1655 - accuracy: 0.7397 - val_loss: 0.1677 - val_accuracy: 0.7670\n",
      "Epoch 46/50\n",
      "42/42 [==============================] - 0s 3ms/step - loss: 0.1634 - accuracy: 0.7591 - val_loss: 0.1717 - val_accuracy: 0.7476\n",
      "Epoch 47/50\n",
      "42/42 [==============================] - 0s 3ms/step - loss: 0.1680 - accuracy: 0.7494 - val_loss: 0.1658 - val_accuracy: 0.7670\n",
      "Epoch 48/50\n",
      "42/42 [==============================] - 0s 3ms/step - loss: 0.1657 - accuracy: 0.7494 - val_loss: 0.1668 - val_accuracy: 0.7670\n",
      "Epoch 49/50\n",
      "42/42 [==============================] - 0s 3ms/step - loss: 0.1637 - accuracy: 0.7543 - val_loss: 0.1669 - val_accuracy: 0.7476\n",
      "Epoch 50/50\n",
      "42/42 [==============================] - 0s 3ms/step - loss: 0.1631 - accuracy: 0.7518 - val_loss: 0.1656 - val_accuracy: 0.7573\n"
     ]
    }
   ],
   "source": [
    "history1= model1.fit(X_train, Y_train, validation_data=(X_valid, Y_valid), epochs=50, batch_size=10)"
   ]
  },
  {
   "cell_type": "code",
   "execution_count": 190,
   "metadata": {},
   "outputs": [
    {
     "name": "stdout",
     "output_type": "stream",
     "text": [
      "8/8 [==============================] - 0s 2ms/step - loss: 0.1599 - accuracy: 0.7795\n",
      "Accuracy: 77.95%\n"
     ]
    }
   ],
   "source": [
    "scores1 = model1.evaluate(X_test, Y_test)\n",
    "print (\"Accuracy: %.2f%%\" %(scores1[1]*100))"
   ]
  },
  {
   "cell_type": "code",
   "execution_count": 191,
   "metadata": {},
   "outputs": [
    {
     "data": {
      "image/png": "[encoded data removed]",
      "text/plain": [
       "<Figure size 432x288 with 1 Axes>"
      ]
     },
     "metadata": {
      "needs_background": "light"
     },
     "output_type": "display_data"
    }
   ],
   "source": [
    "loss_train = history.history['loss']\n",
    "loss_val = history.history['val_loss']\n",
    "epochs = range(1,101)\n",
    "plt.plot(epochs, loss_train, 'g', label='Training loss')\n",
    "plt.plot(epochs, loss_val, 'b', label='validation loss')\n",
    "plt.title('Training and Validation loss')\n",
    "plt.xlabel('Epochs')\n",
    "plt.ylabel('Loss')\n",
    "plt.legend()\n",
    "plt.show()"
   ]
  },
  {
   "cell_type": "code",
   "execution_count": 192,
   "metadata": {},
   "outputs": [
    {
     "data": {
      "image/png": "[encoded data removed]",
      "text/plain": [
       "<Figure size 432x288 with 1 Axes>"
      ]
     },
     "metadata": {
      "needs_background": "light"
     },
     "output_type": "display_data"
    }
   ],
   "source": [
    "loss_train = history.history['accuracy']\n",
    "loss_val = history.history['val_accuracy']\n",
    "epochs = range(1,101)\n",
    "plt.plot(epochs, loss_train, 'g', label='Training accuracy')\n",
    "plt.plot(epochs, loss_val, 'b', label='validation accuracy')\n",
    "plt.title('Training and Validation accuracy')\n",
    "plt.xlabel('Epochs')\n",
    "plt.ylabel('Accuracy')\n",
    "plt.legend()\n",
    "plt.show()"
   ]
  },
  {
   "cell_type": "code",
   "execution_count": 193,
   "metadata": {},
   "outputs": [],
   "source": [
    "#Answer Part B: The accuracy dropped from 78.74% to 74.02% when the hyper-parameters are changed."
   ]
  },
  {
   "cell_type": "code",
   "execution_count": 194,
   "metadata": {},
   "outputs": [],
   "source": [
    "#(Part C) Make Epoch versus train set accuracy, and validation set accuracy (3 marks)"
   ]
  },
  {
   "cell_type": "code",
   "execution_count": 195,
   "metadata": {},
   "outputs": [],
   "source": [
    "# Highest accuracy of  Epoch is : 79.34% "
   ]
  },
  {
   "cell_type": "code",
   "execution_count": 196,
   "metadata": {},
   "outputs": [
    {
     "name": "stdout",
     "output_type": "stream",
     "text": [
      "13/13 [==============================] - 0s 2ms/step - loss: 0.4446 - accuracy: 0.8029\n",
      "Accuracy: 80.29%\n"
     ]
    }
   ],
   "source": [
    "# Evaluate the model for train set\n",
    "scores = model.evaluate(X_train, Y_train)\n",
    "print (\"Accuracy: %.2f%%\" %(scores[1]*100))"
   ]
  },
  {
   "cell_type": "code",
   "execution_count": 197,
   "metadata": {},
   "outputs": [
    {
     "name": "stdout",
     "output_type": "stream",
     "text": [
      "4/4 [==============================] - 0s 3ms/step - loss: 0.5046 - accuracy: 0.7184\n",
      "Accuracy: 71.84%\n"
     ]
    }
   ],
   "source": [
    "# Evaluate the model for valid set\n",
    "scores = model.evaluate(X_valid, Y_valid)\n",
    "print (\"Accuracy: %.2f%%\" %(scores[1]*100))"
   ]
  },
  {
   "cell_type": "code",
   "execution_count": 198,
   "metadata": {},
   "outputs": [],
   "source": [
    "#Accuracy using the second model with different hyper-parameters."
   ]
  },
  {
   "cell_type": "code",
   "execution_count": 199,
   "metadata": {},
   "outputs": [
    {
     "name": "stdout",
     "output_type": "stream",
     "text": [
      "13/13 [==============================] - 0s 2ms/step - loss: 0.1612 - accuracy: 0.7591\n",
      "Accuracy_train1: 75.91%\n"
     ]
    }
   ],
   "source": [
    "scores_train1 = model1.evaluate(X_train, Y_train)\n",
    "print (\"Accuracy_train1: %.2f%%\" %(scores_train1[1]*100))"
   ]
  },
  {
   "cell_type": "code",
   "execution_count": 200,
   "metadata": {},
   "outputs": [
    {
     "name": "stdout",
     "output_type": "stream",
     "text": [
      "4/4 [==============================] - 0s 2ms/step - loss: 0.1656 - accuracy: 0.7573\n",
      "Accuracy_valid1: 75.73%\n"
     ]
    }
   ],
   "source": [
    "scores_valid1 = model1.evaluate(X_valid, Y_valid)\n",
    "print (\"Accuracy_valid1: %.2f%%\" %(scores_valid1[1]*100))"
   ]
  },
  {
   "cell_type": "code",
   "execution_count": 201,
   "metadata": {},
   "outputs": [
    {
     "data": {
      "image/png": "[encoded data removed]",
      "text/plain": [
       "<Figure size 432x288 with 1 Axes>"
      ]
     },
     "metadata": {
      "needs_background": "light"
     },
     "output_type": "display_data"
    }
   ],
   "source": [
    "loss_train = history1.history['loss']\n",
    "loss_val = history1.history['val_loss']\n",
    "epochs = range(1,51)\n",
    "plt.plot(epochs, loss_train, 'g', label='Training loss')\n",
    "plt.plot(epochs, loss_val, 'b', label='validation loss')\n",
    "plt.title('Training and Validation loss')\n",
    "plt.xlabel('Epochs')\n",
    "plt.ylabel('Loss')\n",
    "plt.legend()\n",
    "plt.show()"
   ]
  },
  {
   "cell_type": "code",
   "execution_count": 202,
   "metadata": {},
   "outputs": [
    {
     "data": {
      "image/png": "[encoded data removed]",
      "text/plain": [
       "<Figure size 432x288 with 1 Axes>"
      ]
     },
     "metadata": {
      "needs_background": "light"
     },
     "output_type": "display_data"
    }
   ],
   "source": [
    "loss_train =history1.history['accuracy']\n",
    "loss_val = history1.history['val_accuracy']\n",
    "epochs = range(1,51)\n",
    "plt.plot(epochs, loss_train, 'g', label='Training accuracy')\n",
    "plt.plot(epochs, loss_val, 'b', label='validation accuracy')\n",
    "plt.title('Training and Validation accuracy')\n",
    "plt.xlabel('Epochs')\n",
    "plt.ylabel('Accuracy')\n",
    "plt.legend()\n",
    "plt.show()"
   ]
  },
  {
   "cell_type": "code",
   "execution_count": 203,
   "metadata": {},
   "outputs": [],
   "source": [
    "#Answer Part C: Accuracy comparison using  first model Epoch: Train: Valid = 79.34: 78.35: 70.87\n",
    "# Accuracy comparison using  second model Epoch: Train: Valid = 75.18: 72.26: 70.87"
   ]
  },
  {
   "cell_type": "code",
   "execution_count": 204,
   "metadata": {},
   "outputs": [],
   "source": [
    "#(Part D) Report results using nice ROC curves, report AUC values.\n",
    "#Feel free to use code form our course, or from elsewhere (2 marks)"
   ]
  },
  {
   "cell_type": "code",
   "execution_count": 205,
   "metadata": {},
   "outputs": [],
   "source": [
    "from sklearn.metrics import roc_curve , roc_auc_score , confusion_matrix , accuracy_score\n",
    "import matplotlib.pyplot as plt"
   ]
  },
  {
   "cell_type": "code",
   "execution_count": 206,
   "metadata": {},
   "outputs": [
    {
     "name": "stdout",
     "output_type": "stream",
     "text": [
      "8/8 [==============================] - 0s 2ms/step\n"
     ]
    }
   ],
   "source": [
    "y_pred_keras = model.predict(X_test).ravel()\n",
    "fpr_keras, tpr_keras, thresholds_keras = roc_curve(Y_test, y_pred_keras)"
   ]
  },
  {
   "cell_type": "code",
   "execution_count": 207,
   "metadata": {},
   "outputs": [
    {
     "name": "stdout",
     "output_type": "stream",
     "text": [
      "8/8 [==============================] - 0s 3ms/step\n"
     ]
    }
   ],
   "source": [
    "y_pred_keras1 = model1.predict(X_test).ravel()\n",
    "fpr_keras1, tpr_keras1, thresholds_keras1 = roc_curve(Y_test, y_pred_keras1)"
   ]
  },
  {
   "cell_type": "code",
   "execution_count": 208,
   "metadata": {},
   "outputs": [
    {
     "name": "stdout",
     "output_type": "stream",
     "text": [
      "4/4 [==============================] - 0s 3ms/step\n"
     ]
    }
   ],
   "source": [
    "y_pred_keras2 = model.predict(X_valid).ravel()\n",
    "fpr_keras2, tpr_keras2, thresholds_keras2 = roc_curve(Y_valid, y_pred_keras2)\n"
   ]
  },
  {
   "cell_type": "code",
   "execution_count": 209,
   "metadata": {},
   "outputs": [
    {
     "name": "stdout",
     "output_type": "stream",
     "text": [
      "13/13 [==============================] - 0s 2ms/step\n"
     ]
    }
   ],
   "source": [
    "y_pred_keras3 = model.predict(X_train).ravel()\n",
    "fpr_keras3, tpr_keras3, thresholds_keras3 = roc_curve(Y_train, y_pred_keras3)"
   ]
  },
  {
   "cell_type": "code",
   "execution_count": 210,
   "metadata": {},
   "outputs": [
    {
     "data": {
      "text/plain": [
       "0.836352657004831"
      ]
     },
     "execution_count": 210,
     "metadata": {},
     "output_type": "execute_result"
    }
   ],
   "source": [
    "from sklearn.metrics import auc\n",
    "auc_keras = auc(fpr_keras, tpr_keras)\n",
    "auc_keras"
   ]
  },
  {
   "cell_type": "code",
   "execution_count": 211,
   "metadata": {},
   "outputs": [
    {
     "name": "stdout",
     "output_type": "stream",
     "text": [
      "0.836352657004831 0.8381642512077295\n",
      "0.8089068825910931 0.8558156819026385\n"
     ]
    }
   ],
   "source": [
    "#AUC SCORES\n",
    "\n",
    "from sklearn.metrics import roc_auc_score\n",
    "\n",
    "# auc scores\n",
    "auc_score = roc_auc_score(Y_test, y_pred_keras)\n",
    "auc_score1 = roc_auc_score(Y_test, y_pred_keras1)\n",
    "\n",
    "auc_score2 = roc_auc_score(Y_valid, y_pred_keras2)\n",
    "auc_score3 = roc_auc_score(Y_train, y_pred_keras3)\n",
    "\n",
    "print(auc_score, auc_score1)\n",
    "print(auc_score2, auc_score3)"
   ]
  },
  {
   "cell_type": "code",
   "execution_count": 212,
   "metadata": {},
   "outputs": [
    {
     "data": {
      "image/png": "[encoded data removed]",
      "text/plain": [
       "<Figure size 432x288 with 1 Axes>"
      ]
     },
     "metadata": {
      "needs_background": "light"
     },
     "output_type": "display_data"
    },
    {
     "data": {
      "image/png": "[encoded data removed]",
      "text/plain": [
       "<Figure size 432x288 with 1 Axes>"
      ]
     },
     "metadata": {
      "needs_background": "light"
     },
     "output_type": "display_data"
    }
   ],
   "source": [
    "plt.figure(1)\n",
    "plt.plot([0, 1], [0, 1], 'k--')\n",
    "plt.plot(fpr_keras, tpr_keras, label='Keras (area = {:.3f})'.format(auc_keras))\n",
    "plt.plot(fpr_keras1, tpr_keras1, label='Keras (area = {:.3f})'.format(auc_keras))\n",
    "plt.plot(fpr_keras2, tpr_keras2, label='Keras (area = {:.3f})'.format(auc_keras))\n",
    "plt.plot(fpr_keras3, tpr_keras3, label='Keras (area = {:.3f})'.format(auc_keras))\n",
    "\n",
    "plt.xlabel('False positive rate')\n",
    "plt.ylabel('True positive rate')\n",
    "plt.title('ROC curve')\n",
    "plt.legend(loc='best')\n",
    "plt.show()\n",
    "# Zoom in view of the upper left corner.\n",
    "plt.figure(2)\n",
    "plt.xlim(0, 0.2)\n",
    "plt.ylim(0.8, 1)\n",
    "plt.plot([0, 1], [0, 1], 'k--')\n",
    "plt.plot(fpr_keras, tpr_keras, label='Keras (area = {:.3f})'.format(auc_keras))\n",
    "plt.plot(fpr_keras1, tpr_keras1, label='Keras (area = {:.3f})'.format(auc_keras))\n",
    "plt.plot(fpr_keras2, tpr_keras2, label='Keras (area = {:.3f})'.format(auc_keras))\n",
    "plt.plot(fpr_keras3, tpr_keras3, label='Keras (area = {:.3f})'.format(auc_keras))\n",
    "\n",
    "plt.xlabel('False positive rate')\n",
    "plt.ylabel('True positive rate')\n",
    "plt.title('ROC curve (zoomed in at top left)')\n",
    "plt.legend(loc='best')\n",
    "plt.show()"
   ]
  },
  {
   "cell_type": "code",
   "execution_count": 213,
   "metadata": {},
   "outputs": [],
   "source": [
    "# Part E-- We can increase the size of dataset with SMOTE and also another method is by duplicating \n",
    "# some data of the existing dataset.\n",
    "#Below is code for both the methods: "
   ]
  },
  {
   "cell_type": "code",
   "execution_count": 214,
   "metadata": {},
   "outputs": [],
   "source": [
    "# SMOTE technique Code:\n"
   ]
  },
  {
   "cell_type": "code",
   "execution_count": 215,
   "metadata": {},
   "outputs": [],
   "source": [
    "from sklearn.datasets import make_classification\n",
    "X, y = make_classification(n_classes=2, class_sep=0.5,\n",
    "weights=[0.05, 0.95], n_informative=2, n_redundant=0, flip_y=0,\n",
    "n_features=2, n_clusters_per_class=1, n_samples=1000, random_state=10)"
   ]
  },
  {
   "cell_type": "code",
   "execution_count": 216,
   "metadata": {},
   "outputs": [],
   "source": [
    "from imblearn.over_sampling import SMOTE\n",
    "sm = SMOTE(random_state=42)\n",
    "X_res, y_res = sm.fit_resample(X_train, Y_train)"
   ]
  },
  {
   "cell_type": "code",
   "execution_count": 217,
   "metadata": {},
   "outputs": [],
   "source": [
    "# Build the deep neural network\n",
    "model3 = Sequential()\n",
    "model3.add(Dense(10, input_dim=8,  activation='relu'))\n",
    "model3.add(Dense(6, activation='relu'))\n",
    "model3.add(Dense(1,  activation='sigmoid'))"
   ]
  },
  {
   "cell_type": "code",
   "execution_count": 218,
   "metadata": {},
   "outputs": [],
   "source": [
    "###compile\n",
    "model3.compile(\n",
    "    optimizer='adam',\n",
    "    loss='mean_squared_error',\n",
    "    metrics=['accuracy']\n",
    "  )"
   ]
  },
  {
   "cell_type": "code",
   "execution_count": 219,
   "metadata": {},
   "outputs": [
    {
     "name": "stdout",
     "output_type": "stream",
     "text": [
      "Epoch 1/50\n",
      "55/55 [==============================] - 1s 2ms/step - loss: 0.2495 - accuracy: 0.4817\n",
      "Epoch 2/50\n",
      "55/55 [==============================] - 0s 2ms/step - loss: 0.2462 - accuracy: 0.5311\n",
      "Epoch 3/50\n",
      "55/55 [==============================] - 0s 2ms/step - loss: 0.2433 - accuracy: 0.5348\n",
      "Epoch 4/50\n",
      "55/55 [==============================] - 0s 2ms/step - loss: 0.2396 - accuracy: 0.5916\n",
      "Epoch 5/50\n",
      "55/55 [==============================] - 0s 2ms/step - loss: 0.2365 - accuracy: 0.5842\n",
      "Epoch 6/50\n",
      "55/55 [==============================] - 0s 2ms/step - loss: 0.2337 - accuracy: 0.6300\n",
      "Epoch 7/50\n",
      "55/55 [==============================] - 0s 2ms/step - loss: 0.2308 - accuracy: 0.6813\n",
      "Epoch 8/50\n",
      "55/55 [==============================] - 0s 2ms/step - loss: 0.2283 - accuracy: 0.7179\n",
      "Epoch 9/50\n",
      "55/55 [==============================] - 0s 2ms/step - loss: 0.2254 - accuracy: 0.6612\n",
      "Epoch 10/50\n",
      "55/55 [==============================] - 0s 2ms/step - loss: 0.2223 - accuracy: 0.7234\n",
      "Epoch 11/50\n",
      "55/55 [==============================] - 0s 2ms/step - loss: 0.2193 - accuracy: 0.7363\n",
      "Epoch 12/50\n",
      "55/55 [==============================] - 0s 3ms/step - loss: 0.2167 - accuracy: 0.7418\n",
      "Epoch 13/50\n",
      "55/55 [==============================] - 0s 2ms/step - loss: 0.2142 - accuracy: 0.7527\n",
      "Epoch 14/50\n",
      "55/55 [==============================] - 0s 2ms/step - loss: 0.2111 - accuracy: 0.7546\n",
      "Epoch 15/50\n",
      "55/55 [==============================] - 0s 2ms/step - loss: 0.2085 - accuracy: 0.7491\n",
      "Epoch 16/50\n",
      "55/55 [==============================] - 0s 2ms/step - loss: 0.2062 - accuracy: 0.7454\n",
      "Epoch 17/50\n",
      "55/55 [==============================] - 0s 3ms/step - loss: 0.2031 - accuracy: 0.7564\n",
      "Epoch 18/50\n",
      "55/55 [==============================] - 0s 3ms/step - loss: 0.1986 - accuracy: 0.7454\n",
      "Epoch 19/50\n",
      "55/55 [==============================] - 0s 2ms/step - loss: 0.1936 - accuracy: 0.7473\n",
      "Epoch 20/50\n",
      "55/55 [==============================] - 0s 2ms/step - loss: 0.1895 - accuracy: 0.7308\n",
      "Epoch 21/50\n",
      "55/55 [==============================] - 0s 2ms/step - loss: 0.1869 - accuracy: 0.7418\n",
      "Epoch 22/50\n",
      "55/55 [==============================] - 0s 2ms/step - loss: 0.1870 - accuracy: 0.7564\n",
      "Epoch 23/50\n",
      "55/55 [==============================] - 0s 3ms/step - loss: 0.1842 - accuracy: 0.7344\n",
      "Epoch 24/50\n",
      "55/55 [==============================] - 0s 3ms/step - loss: 0.1820 - accuracy: 0.7546\n",
      "Epoch 25/50\n",
      "55/55 [==============================] - 0s 4ms/step - loss: 0.1804 - accuracy: 0.7582\n",
      "Epoch 26/50\n",
      "55/55 [==============================] - 0s 2ms/step - loss: 0.1791 - accuracy: 0.7601\n",
      "Epoch 27/50\n",
      "55/55 [==============================] - 0s 2ms/step - loss: 0.1779 - accuracy: 0.7582\n",
      "Epoch 28/50\n",
      "55/55 [==============================] - 0s 2ms/step - loss: 0.1779 - accuracy: 0.7674\n",
      "Epoch 29/50\n",
      "55/55 [==============================] - 0s 2ms/step - loss: 0.1759 - accuracy: 0.7619\n",
      "Epoch 30/50\n",
      "55/55 [==============================] - 0s 2ms/step - loss: 0.1748 - accuracy: 0.7601\n",
      "Epoch 31/50\n",
      "55/55 [==============================] - 0s 2ms/step - loss: 0.1746 - accuracy: 0.7527\n",
      "Epoch 32/50\n",
      "55/55 [==============================] - 0s 2ms/step - loss: 0.1734 - accuracy: 0.7582\n",
      "Epoch 33/50\n",
      "55/55 [==============================] - 0s 2ms/step - loss: 0.1736 - accuracy: 0.7674\n",
      "Epoch 34/50\n",
      "55/55 [==============================] - 0s 2ms/step - loss: 0.1723 - accuracy: 0.7729\n",
      "Epoch 35/50\n",
      "55/55 [==============================] - 0s 2ms/step - loss: 0.1715 - accuracy: 0.7692\n",
      "Epoch 36/50\n",
      "55/55 [==============================] - 0s 2ms/step - loss: 0.1717 - accuracy: 0.7656\n",
      "Epoch 37/50\n",
      "55/55 [==============================] - 0s 2ms/step - loss: 0.1701 - accuracy: 0.7711\n",
      "Epoch 38/50\n",
      "55/55 [==============================] - 0s 3ms/step - loss: 0.1718 - accuracy: 0.7527\n",
      "Epoch 39/50\n",
      "55/55 [==============================] - 0s 3ms/step - loss: 0.1696 - accuracy: 0.7656\n",
      "Epoch 40/50\n",
      "55/55 [==============================] - 0s 2ms/step - loss: 0.1697 - accuracy: 0.7564\n",
      "Epoch 41/50\n",
      "55/55 [==============================] - 0s 2ms/step - loss: 0.1677 - accuracy: 0.7656\n",
      "Epoch 42/50\n",
      "55/55 [==============================] - 0s 2ms/step - loss: 0.1673 - accuracy: 0.7692\n",
      "Epoch 43/50\n",
      "55/55 [==============================] - 0s 2ms/step - loss: 0.1684 - accuracy: 0.7656\n",
      "Epoch 44/50\n",
      "55/55 [==============================] - 0s 2ms/step - loss: 0.1671 - accuracy: 0.7729\n",
      "Epoch 45/50\n",
      "55/55 [==============================] - 0s 2ms/step - loss: 0.1669 - accuracy: 0.7692\n",
      "Epoch 46/50\n",
      "55/55 [==============================] - 0s 2ms/step - loss: 0.1667 - accuracy: 0.7601\n",
      "Epoch 47/50\n",
      "55/55 [==============================] - 0s 2ms/step - loss: 0.1664 - accuracy: 0.7656\n",
      "Epoch 48/50\n",
      "55/55 [==============================] - 0s 2ms/step - loss: 0.1661 - accuracy: 0.7692\n",
      "Epoch 49/50\n",
      "55/55 [==============================] - 0s 3ms/step - loss: 0.1651 - accuracy: 0.7802\n",
      "Epoch 50/50\n",
      "55/55 [==============================] - 0s 3ms/step - loss: 0.1648 - accuracy: 0.7729\n"
     ]
    },
    {
     "data": {
      "text/plain": [
       "<keras.callbacks.History at 0x7fb5bf7be0a0>"
      ]
     },
     "execution_count": 219,
     "metadata": {},
     "output_type": "execute_result"
    }
   ],
   "source": [
    "#Fittting and evaluating the model again on the modified data-set\n",
    "model3.fit(X_res, y_res,epochs=50, batch_size=10)"
   ]
  },
  {
   "cell_type": "code",
   "execution_count": 220,
   "metadata": {},
   "outputs": [
    {
     "name": "stdout",
     "output_type": "stream",
     "text": [
      "8/8 [==============================] - 0s 5ms/step - loss: 0.1692 - accuracy: 0.7480\n",
      "Accuracy: 74.80%\n"
     ]
    }
   ],
   "source": [
    "#Accuracy\n",
    "scores3 = model3.evaluate(X_test, Y_test)\n",
    "print (\"Accuracy: %.2f%%\" %(scores3[1]*100))"
   ]
  },
  {
   "cell_type": "code",
   "execution_count": 221,
   "metadata": {},
   "outputs": [],
   "source": [
    "# Second method to increase the dataset is by duplicating the existing data in the dataset. \n",
    "#Below is the code:"
   ]
  },
  {
   "cell_type": "code",
   "execution_count": 222,
   "metadata": {},
   "outputs": [],
   "source": [
    "from imblearn.over_sampling import RandomOverSampler"
   ]
  },
  {
   "cell_type": "code",
   "execution_count": 223,
   "metadata": {},
   "outputs": [],
   "source": [
    "oversample = RandomOverSampler(sampling_strategy='minority')"
   ]
  },
  {
   "cell_type": "code",
   "execution_count": 224,
   "metadata": {},
   "outputs": [],
   "source": [
    "# fit and apply the transform\n",
    "X_over, y_over = oversample.fit_resample(X_train, Y_train)"
   ]
  },
  {
   "cell_type": "code",
   "execution_count": 225,
   "metadata": {},
   "outputs": [
    {
     "name": "stdout",
     "output_type": "stream",
     "text": [
      "Counter({0: 9900, 1: 100})\n",
      "Counter({0: 9900, 1: 9900})\n"
     ]
    }
   ],
   "source": [
    "from collections import Counter\n",
    "# define dataset\n",
    "X, y = make_classification(n_samples=10000, weights=[0.99], flip_y=0)\n",
    "# summarize class distribution\n",
    "print(Counter(y))\n",
    "# define oversampling strategy\n",
    "oversample = RandomOverSampler(sampling_strategy='minority')\n",
    "# fit and apply the transform\n",
    "X_over, y_over = oversample.fit_resample(X, y)\n",
    "# summarize class distribution\n",
    "print(Counter(y_over))"
   ]
  },
  {
   "cell_type": "code",
   "execution_count": 226,
   "metadata": {},
   "outputs": [
    {
     "name": "stdout",
     "output_type": "stream",
     "text": [
      "F1 Score: 0.985\n"
     ]
    }
   ],
   "source": [
    "from numpy import mean\n",
    "from imblearn.pipeline import Pipeline\n",
    "from sklearn.tree import DecisionTreeClassifier\n",
    "from sklearn.model_selection import cross_val_score\n",
    "from sklearn.model_selection import RepeatedStratifiedKFold\n",
    "steps = [('over', RandomOverSampler()), ('model', DecisionTreeClassifier())]\n",
    "pipeline = Pipeline(steps=steps)\n",
    "# evaluate pipeline\n",
    "cv = RepeatedStratifiedKFold(n_splits=10, n_repeats=3, random_state=1)\n",
    "scores = cross_val_score(pipeline, X, y, scoring='f1_micro', cv=cv, n_jobs=-1)\n",
    "score = mean(scores)\n",
    "print('F1 Score: %.3f' % score)"
   ]
  },
  {
   "cell_type": "code",
   "execution_count": 227,
   "metadata": {},
   "outputs": [],
   "source": [
    "#Looks like the accuracy of SMOTE is less than the RandomOverSampler Method.\n",
    "#The accuracy of SMOTE is 77.95% Whereas RandomOverSampler has 98.4%\n",
    "#Hence RandomOverSampler is better than SMOTE"
   ]
  },
  {
   "cell_type": "code",
   "execution_count": null,
   "metadata": {},
   "outputs": [],
   "source": []
  }
 ],
 "metadata": {
  "kernelspec": {
   "display_name": "Python 3 (ipykernel)",
   "language": "python",
   "name": "python3"
  },
  "language_info": {
   "codemirror_mode": {
    "name": "ipython",
    "version": 3
   },
   "file_extension": ".py",
   "mimetype": "text/x-python",
   "name": "python",
   "nbconvert_exporter": "python",
   "pygments_lexer": "ipython3",
   "version": "3.9.7"
  }
 },
 "nbformat": 4,
 "nbformat_minor": 2
}

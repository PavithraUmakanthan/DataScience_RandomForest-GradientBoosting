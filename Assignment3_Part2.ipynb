{
 "cells": [
  {
   "cell_type": "code",
   "execution_count": 255,
   "id": "8f0b677b",
   "metadata": {},
   "outputs": [],
   "source": [
    "#Please describe at least two ways of ensembling together DNNs and RFs. Take any dataset from Kaggle and\n",
    "\n",
    "#(1) train an RF model (2) train a DNN, and (3) a hybrid DNN and RF model. \n",
    "#Provide detailed model and result comparison"
   ]
  },
  {
   "cell_type": "code",
   "execution_count": 256,
   "id": "9e059725",
   "metadata": {},
   "outputs": [],
   "source": [
    "#Ensemble methods are techniques that aim at improving the accuracy of\n",
    "#results in models by combining multiple models instead of using\n",
    "#a single model. The combined models increase the accuracy of the results significantly.\n",
    "#This has boosted the popularity of ensemble methods in machine learning.\n",
    "\n",
    "\n",
    "#Main Types of Ensemble Methods\n",
    "\n",
    "#1. Bagging\n",
    "#Bagging, the short form for bootstrap aggregating, is mainly applied in classification and regression.\n",
    "#It increases the accuracy of models through decision trees, which reduces variance to a large extent.\n",
    "#The reduction of variance increases accuracy, eliminating overfitting, which is a \n",
    "#challenge to many predictive models.\n",
    "\n",
    "#2. Boosting\n",
    "#Boosting is an ensemble technique that learns from previous predictor mistakes \n",
    "#to make better predictions in the future. The technique combines several weak base learners to \n",
    "#form one strong learner, thus significantly improving the predictability of models. \n",
    "#Boosting works by arranging weak learners in a sequence, such that weak learners learn from the next\n",
    "#learner in the sequence to create better predictive models.\n",
    "\n",
    "#3. Stacking\n",
    "#Stacking, another ensemble method, is often referred to as stacked generalization.\n",
    "#This technique works by allowing a training algorithm to ensemble several other similar learning \n",
    "#algorithm predictions. Stacking has been successfully implemented in regression, density estimations, \n",
    "#distance learning, and classifications. It can also be used to measure the error rate involved during bagging."
   ]
  },
  {
   "cell_type": "code",
   "execution_count": 257,
   "id": "51c76f37",
   "metadata": {},
   "outputs": [],
   "source": [
    "import matplotlib.pyplot as plt\n",
    "from sklearn.model_selection import train_test_split\n",
    "from keras.models import Sequential\n",
    "from keras.layers import Dense\n",
    "from sklearn import datasets\n",
    "from sklearn import tree\n",
    "from sklearn.ensemble import RandomForestClassifier\n",
    "from random import randint\n",
    "import pandas as pd\n",
    "import numpy as np\n",
    "import tensorflow as tf\n",
    "import seaborn as sns\n",
    "from matplotlib import cm \n",
    "from tensorflow.keras.utils import plot_model\n",
    "from sklearn.metrics import accuracy_score, confusion_matrix, classification_report\n",
    "%config Completer.use_jedi = False"
   ]
  },
  {
   "cell_type": "code",
   "execution_count": 258,
   "id": "72e0381f",
   "metadata": {},
   "outputs": [],
   "source": [
    "DATA_URL = '/Users/Venkat/Downloads/salary.csv'\n"
   ]
  },
  {
   "cell_type": "code",
   "execution_count": 259,
   "id": "caf53c96",
   "metadata": {},
   "outputs": [
    {
     "data": {
      "text/plain": [
       "age               32561\n",
       "workclass         32561\n",
       "fnlwgt            32561\n",
       "education         32561\n",
       "education-num     32561\n",
       "marital-status    32561\n",
       "occupation        32561\n",
       "relationship      32561\n",
       "race              32561\n",
       "sex               32561\n",
       "capital-gain      32561\n",
       "capital-loss      32561\n",
       "hours-per-week    32561\n",
       "native-country    32561\n",
       "salary            32561\n",
       "dtype: int64"
      ]
     },
     "execution_count": 259,
     "metadata": {},
     "output_type": "execute_result"
    }
   ],
   "source": [
    "unprocessed_data = pd.read_csv(DATA_URL)\n",
    "data = pd.read_csv(DATA_URL)\n",
    "data.count()"
   ]
  },
  {
   "cell_type": "code",
   "execution_count": 260,
   "id": "d6411625",
   "metadata": {},
   "outputs": [
    {
     "data": {
      "text/html": [
       "<div>\n",
       "<style scoped>\n",
       "    .dataframe tbody tr th:only-of-type {\n",
       "        vertical-align: middle;\n",
       "    }\n",
       "\n",
       "    .dataframe tbody tr th {\n",
       "        vertical-align: top;\n",
       "    }\n",
       "\n",
       "    .dataframe thead th {\n",
       "        text-align: right;\n",
       "    }\n",
       "</style>\n",
       "<table border=\"1\" class=\"dataframe\">\n",
       "  <thead>\n",
       "    <tr style=\"text-align: right;\">\n",
       "      <th></th>\n",
       "      <th>age</th>\n",
       "      <th>workclass</th>\n",
       "      <th>fnlwgt</th>\n",
       "      <th>education</th>\n",
       "      <th>education-num</th>\n",
       "      <th>marital-status</th>\n",
       "      <th>occupation</th>\n",
       "      <th>relationship</th>\n",
       "      <th>race</th>\n",
       "      <th>sex</th>\n",
       "      <th>capital-gain</th>\n",
       "      <th>capital-loss</th>\n",
       "      <th>hours-per-week</th>\n",
       "      <th>native-country</th>\n",
       "      <th>salary</th>\n",
       "    </tr>\n",
       "  </thead>\n",
       "  <tbody>\n",
       "    <tr>\n",
       "      <th>0</th>\n",
       "      <td>39</td>\n",
       "      <td>State-gov</td>\n",
       "      <td>77516</td>\n",
       "      <td>Bachelors</td>\n",
       "      <td>13</td>\n",
       "      <td>Never-married</td>\n",
       "      <td>Adm-clerical</td>\n",
       "      <td>Not-in-family</td>\n",
       "      <td>White</td>\n",
       "      <td>Male</td>\n",
       "      <td>2174</td>\n",
       "      <td>0</td>\n",
       "      <td>40</td>\n",
       "      <td>United-States</td>\n",
       "      <td>&lt;=50K</td>\n",
       "    </tr>\n",
       "    <tr>\n",
       "      <th>1</th>\n",
       "      <td>50</td>\n",
       "      <td>Self-emp-not-inc</td>\n",
       "      <td>83311</td>\n",
       "      <td>Bachelors</td>\n",
       "      <td>13</td>\n",
       "      <td>Married-civ-spouse</td>\n",
       "      <td>Exec-managerial</td>\n",
       "      <td>Husband</td>\n",
       "      <td>White</td>\n",
       "      <td>Male</td>\n",
       "      <td>0</td>\n",
       "      <td>0</td>\n",
       "      <td>13</td>\n",
       "      <td>United-States</td>\n",
       "      <td>&lt;=50K</td>\n",
       "    </tr>\n",
       "    <tr>\n",
       "      <th>2</th>\n",
       "      <td>38</td>\n",
       "      <td>Private</td>\n",
       "      <td>215646</td>\n",
       "      <td>HS-grad</td>\n",
       "      <td>9</td>\n",
       "      <td>Divorced</td>\n",
       "      <td>Handlers-cleaners</td>\n",
       "      <td>Not-in-family</td>\n",
       "      <td>White</td>\n",
       "      <td>Male</td>\n",
       "      <td>0</td>\n",
       "      <td>0</td>\n",
       "      <td>40</td>\n",
       "      <td>United-States</td>\n",
       "      <td>&lt;=50K</td>\n",
       "    </tr>\n",
       "    <tr>\n",
       "      <th>3</th>\n",
       "      <td>53</td>\n",
       "      <td>Private</td>\n",
       "      <td>234721</td>\n",
       "      <td>11th</td>\n",
       "      <td>7</td>\n",
       "      <td>Married-civ-spouse</td>\n",
       "      <td>Handlers-cleaners</td>\n",
       "      <td>Husband</td>\n",
       "      <td>Black</td>\n",
       "      <td>Male</td>\n",
       "      <td>0</td>\n",
       "      <td>0</td>\n",
       "      <td>40</td>\n",
       "      <td>United-States</td>\n",
       "      <td>&lt;=50K</td>\n",
       "    </tr>\n",
       "    <tr>\n",
       "      <th>4</th>\n",
       "      <td>28</td>\n",
       "      <td>Private</td>\n",
       "      <td>338409</td>\n",
       "      <td>Bachelors</td>\n",
       "      <td>13</td>\n",
       "      <td>Married-civ-spouse</td>\n",
       "      <td>Prof-specialty</td>\n",
       "      <td>Wife</td>\n",
       "      <td>Black</td>\n",
       "      <td>Female</td>\n",
       "      <td>0</td>\n",
       "      <td>0</td>\n",
       "      <td>40</td>\n",
       "      <td>Cuba</td>\n",
       "      <td>&lt;=50K</td>\n",
       "    </tr>\n",
       "  </tbody>\n",
       "</table>\n",
       "</div>"
      ],
      "text/plain": [
       "   age          workclass  fnlwgt   education  education-num  \\\n",
       "0   39          State-gov   77516   Bachelors             13   \n",
       "1   50   Self-emp-not-inc   83311   Bachelors             13   \n",
       "2   38            Private  215646     HS-grad              9   \n",
       "3   53            Private  234721        11th              7   \n",
       "4   28            Private  338409   Bachelors             13   \n",
       "\n",
       "        marital-status          occupation    relationship    race      sex  \\\n",
       "0        Never-married        Adm-clerical   Not-in-family   White     Male   \n",
       "1   Married-civ-spouse     Exec-managerial         Husband   White     Male   \n",
       "2             Divorced   Handlers-cleaners   Not-in-family   White     Male   \n",
       "3   Married-civ-spouse   Handlers-cleaners         Husband   Black     Male   \n",
       "4   Married-civ-spouse      Prof-specialty            Wife   Black   Female   \n",
       "\n",
       "   capital-gain  capital-loss  hours-per-week  native-country  salary  \n",
       "0          2174             0              40   United-States   <=50K  \n",
       "1             0             0              13   United-States   <=50K  \n",
       "2             0             0              40   United-States   <=50K  \n",
       "3             0             0              40   United-States   <=50K  \n",
       "4             0             0              40            Cuba   <=50K  "
      ]
     },
     "execution_count": 260,
     "metadata": {},
     "output_type": "execute_result"
    }
   ],
   "source": [
    "data.head()"
   ]
  },
  {
   "cell_type": "code",
   "execution_count": 261,
   "id": "59e9eacf",
   "metadata": {},
   "outputs": [],
   "source": [
    "##Data cleaning and pre-processing\n",
    "\n",
    "def normalize_field(dataset, field_name):\n",
    "    dataset[field_name] = dataset[field_name] / dataset[field_name].max()\n",
    "    return dataset"
   ]
  },
  {
   "cell_type": "code",
   "execution_count": 262,
   "id": "703f9fd1",
   "metadata": {},
   "outputs": [],
   "source": [
    "def one_hot_field(dataset, field_name):\n",
    "    field_one_hot = pd.get_dummies(data[field_name], prefix=f\"{field_name}=\", prefix_sep=\"\")\n",
    "    dataset = pd.concat([data, field_one_hot], axis=1)\n",
    "    dataset = dataset.drop([field_name], axis=1)\n",
    "    return dataset"
   ]
  },
  {
   "cell_type": "code",
   "execution_count": 263,
   "id": "b5ccf5cb",
   "metadata": {},
   "outputs": [],
   "source": [
    "def binary_encode_field(dataset, field_name, new_name):\n",
    "    unique_values = dataset[field_name].unique()\n",
    "    replace_nums = {field_name: {unique_values[0]: 0, unique_values[1]: 1}}\n",
    "    dataset = dataset.replace(replace_nums)\n",
    "    dataset.columns = dataset.columns.str.replace(field_name, new_name)\n",
    "    return dataset"
   ]
  },
  {
   "cell_type": "code",
   "execution_count": 264,
   "id": "f101d962",
   "metadata": {},
   "outputs": [],
   "source": [
    "#Split the fields into numerical / categorical / binary\n",
    "numerical_fields = [\"age\", \"fnlwgt\", \"education-num\", \"capital-gain\", \"capital-loss\", \"hours-per-week\"]\n",
    "categorical_fields = [\"workclass\", \"education\", \"marital-status\", \"occupation\", \"relationship\", \"race\",\n",
    "                      \"native-country\"]\n",
    "binary_fields = [\"sex\", \"salary\"]\n",
    "new_names = [\"is_female\", \"salary_greater_than_50k\"]"
   ]
  },
  {
   "cell_type": "code",
   "execution_count": 265,
   "id": "520e9b98",
   "metadata": {},
   "outputs": [],
   "source": [
    "for field in numerical_fields:\n",
    "    data = normalize_field(data, field)"
   ]
  },
  {
   "cell_type": "code",
   "execution_count": 266,
   "id": "e86c0176",
   "metadata": {},
   "outputs": [],
   "source": [
    "for i, field in enumerate(binary_fields):\n",
    "    data = binary_encode_field(data, field, new_names[i])"
   ]
  },
  {
   "cell_type": "code",
   "execution_count": 267,
   "id": "e753a72d",
   "metadata": {},
   "outputs": [
    {
     "data": {
      "text/plain": [
       "<AxesSubplot:>"
      ]
     },
     "execution_count": 267,
     "metadata": {},
     "output_type": "execute_result"
    },
    {
     "data": {
      "image/png": "[encoded data removed]",
      "text/plain": [
       "<Figure size 720x720 with 2 Axes>"
      ]
     },
     "metadata": {
      "needs_background": "light"
     },
     "output_type": "display_data"
    }
   ],
   "source": [
    "plt.figure(figsize=[10,10])\n",
    "mask = np.zeros_like(data.corr(), dtype=bool)\n",
    "mask[np.triu_indices_from(mask)] = True\n",
    "sns.heatmap(round(data.corr(),2), mask=mask, center=0, square=True, annot=True, annot_kws={\"size\":10},\n",
    "            cmap=cm.seismic)"
   ]
  },
  {
   "cell_type": "code",
   "execution_count": 268,
   "id": "1c10af65",
   "metadata": {},
   "outputs": [],
   "source": [
    "for field in categorical_fields:\n",
    "    data = one_hot_field(data, field)"
   ]
  },
  {
   "cell_type": "code",
   "execution_count": 269,
   "id": "e5409d72",
   "metadata": {},
   "outputs": [
    {
     "data": {
      "text/html": [
       "<div>\n",
       "<style scoped>\n",
       "    .dataframe tbody tr th:only-of-type {\n",
       "        vertical-align: middle;\n",
       "    }\n",
       "\n",
       "    .dataframe tbody tr th {\n",
       "        vertical-align: top;\n",
       "    }\n",
       "\n",
       "    .dataframe thead th {\n",
       "        text-align: right;\n",
       "    }\n",
       "</style>\n",
       "<table border=\"1\" class=\"dataframe\">\n",
       "  <thead>\n",
       "    <tr style=\"text-align: right;\">\n",
       "      <th></th>\n",
       "      <th>age</th>\n",
       "      <th>fnlwgt</th>\n",
       "      <th>education-num</th>\n",
       "      <th>is_female</th>\n",
       "      <th>capital-gain</th>\n",
       "      <th>capital-loss</th>\n",
       "      <th>hours-per-week</th>\n",
       "      <th>salary_greater_than_50k</th>\n",
       "      <th>workclass= ?</th>\n",
       "      <th>workclass= Federal-gov</th>\n",
       "      <th>...</th>\n",
       "      <th>native-country= Portugal</th>\n",
       "      <th>native-country= Puerto-Rico</th>\n",
       "      <th>native-country= Scotland</th>\n",
       "      <th>native-country= South</th>\n",
       "      <th>native-country= Taiwan</th>\n",
       "      <th>native-country= Thailand</th>\n",
       "      <th>native-country= Trinadad&amp;Tobago</th>\n",
       "      <th>native-country= United-States</th>\n",
       "      <th>native-country= Vietnam</th>\n",
       "      <th>native-country= Yugoslavia</th>\n",
       "    </tr>\n",
       "  </thead>\n",
       "  <tbody>\n",
       "    <tr>\n",
       "      <th>0</th>\n",
       "      <td>0.433333</td>\n",
       "      <td>0.052210</td>\n",
       "      <td>0.8125</td>\n",
       "      <td>0</td>\n",
       "      <td>0.02174</td>\n",
       "      <td>0.0</td>\n",
       "      <td>0.404040</td>\n",
       "      <td>0</td>\n",
       "      <td>0</td>\n",
       "      <td>0</td>\n",
       "      <td>...</td>\n",
       "      <td>0</td>\n",
       "      <td>0</td>\n",
       "      <td>0</td>\n",
       "      <td>0</td>\n",
       "      <td>0</td>\n",
       "      <td>0</td>\n",
       "      <td>0</td>\n",
       "      <td>1</td>\n",
       "      <td>0</td>\n",
       "      <td>0</td>\n",
       "    </tr>\n",
       "    <tr>\n",
       "      <th>1</th>\n",
       "      <td>0.555556</td>\n",
       "      <td>0.056113</td>\n",
       "      <td>0.8125</td>\n",
       "      <td>0</td>\n",
       "      <td>0.00000</td>\n",
       "      <td>0.0</td>\n",
       "      <td>0.131313</td>\n",
       "      <td>0</td>\n",
       "      <td>0</td>\n",
       "      <td>0</td>\n",
       "      <td>...</td>\n",
       "      <td>0</td>\n",
       "      <td>0</td>\n",
       "      <td>0</td>\n",
       "      <td>0</td>\n",
       "      <td>0</td>\n",
       "      <td>0</td>\n",
       "      <td>0</td>\n",
       "      <td>1</td>\n",
       "      <td>0</td>\n",
       "      <td>0</td>\n",
       "    </tr>\n",
       "    <tr>\n",
       "      <th>2</th>\n",
       "      <td>0.422222</td>\n",
       "      <td>0.145245</td>\n",
       "      <td>0.5625</td>\n",
       "      <td>0</td>\n",
       "      <td>0.00000</td>\n",
       "      <td>0.0</td>\n",
       "      <td>0.404040</td>\n",
       "      <td>0</td>\n",
       "      <td>0</td>\n",
       "      <td>0</td>\n",
       "      <td>...</td>\n",
       "      <td>0</td>\n",
       "      <td>0</td>\n",
       "      <td>0</td>\n",
       "      <td>0</td>\n",
       "      <td>0</td>\n",
       "      <td>0</td>\n",
       "      <td>0</td>\n",
       "      <td>1</td>\n",
       "      <td>0</td>\n",
       "      <td>0</td>\n",
       "    </tr>\n",
       "    <tr>\n",
       "      <th>3</th>\n",
       "      <td>0.588889</td>\n",
       "      <td>0.158093</td>\n",
       "      <td>0.4375</td>\n",
       "      <td>0</td>\n",
       "      <td>0.00000</td>\n",
       "      <td>0.0</td>\n",
       "      <td>0.404040</td>\n",
       "      <td>0</td>\n",
       "      <td>0</td>\n",
       "      <td>0</td>\n",
       "      <td>...</td>\n",
       "      <td>0</td>\n",
       "      <td>0</td>\n",
       "      <td>0</td>\n",
       "      <td>0</td>\n",
       "      <td>0</td>\n",
       "      <td>0</td>\n",
       "      <td>0</td>\n",
       "      <td>1</td>\n",
       "      <td>0</td>\n",
       "      <td>0</td>\n",
       "    </tr>\n",
       "    <tr>\n",
       "      <th>4</th>\n",
       "      <td>0.311111</td>\n",
       "      <td>0.227930</td>\n",
       "      <td>0.8125</td>\n",
       "      <td>1</td>\n",
       "      <td>0.00000</td>\n",
       "      <td>0.0</td>\n",
       "      <td>0.404040</td>\n",
       "      <td>0</td>\n",
       "      <td>0</td>\n",
       "      <td>0</td>\n",
       "      <td>...</td>\n",
       "      <td>0</td>\n",
       "      <td>0</td>\n",
       "      <td>0</td>\n",
       "      <td>0</td>\n",
       "      <td>0</td>\n",
       "      <td>0</td>\n",
       "      <td>0</td>\n",
       "      <td>0</td>\n",
       "      <td>0</td>\n",
       "      <td>0</td>\n",
       "    </tr>\n",
       "  </tbody>\n",
       "</table>\n",
       "<p>5 rows × 108 columns</p>\n",
       "</div>"
      ],
      "text/plain": [
       "        age    fnlwgt  education-num  is_female  capital-gain  capital-loss  \\\n",
       "0  0.433333  0.052210         0.8125          0       0.02174           0.0   \n",
       "1  0.555556  0.056113         0.8125          0       0.00000           0.0   \n",
       "2  0.422222  0.145245         0.5625          0       0.00000           0.0   \n",
       "3  0.588889  0.158093         0.4375          0       0.00000           0.0   \n",
       "4  0.311111  0.227930         0.8125          1       0.00000           0.0   \n",
       "\n",
       "   hours-per-week  salary_greater_than_50k  workclass= ?  \\\n",
       "0        0.404040                        0             0   \n",
       "1        0.131313                        0             0   \n",
       "2        0.404040                        0             0   \n",
       "3        0.404040                        0             0   \n",
       "4        0.404040                        0             0   \n",
       "\n",
       "   workclass= Federal-gov  ...  native-country= Portugal  \\\n",
       "0                       0  ...                         0   \n",
       "1                       0  ...                         0   \n",
       "2                       0  ...                         0   \n",
       "3                       0  ...                         0   \n",
       "4                       0  ...                         0   \n",
       "\n",
       "   native-country= Puerto-Rico  native-country= Scotland  \\\n",
       "0                            0                         0   \n",
       "1                            0                         0   \n",
       "2                            0                         0   \n",
       "3                            0                         0   \n",
       "4                            0                         0   \n",
       "\n",
       "   native-country= South  native-country= Taiwan  native-country= Thailand  \\\n",
       "0                      0                       0                         0   \n",
       "1                      0                       0                         0   \n",
       "2                      0                       0                         0   \n",
       "3                      0                       0                         0   \n",
       "4                      0                       0                         0   \n",
       "\n",
       "   native-country= Trinadad&Tobago  native-country= United-States  \\\n",
       "0                                0                              1   \n",
       "1                                0                              1   \n",
       "2                                0                              1   \n",
       "3                                0                              1   \n",
       "4                                0                              0   \n",
       "\n",
       "   native-country= Vietnam  native-country= Yugoslavia  \n",
       "0                        0                           0  \n",
       "1                        0                           0  \n",
       "2                        0                           0  \n",
       "3                        0                           0  \n",
       "4                        0                           0  \n",
       "\n",
       "[5 rows x 108 columns]"
      ]
     },
     "execution_count": 269,
     "metadata": {},
     "output_type": "execute_result"
    }
   ],
   "source": [
    "data.head()"
   ]
  },
  {
   "cell_type": "code",
   "execution_count": 270,
   "id": "d6930001",
   "metadata": {},
   "outputs": [],
   "source": [
    "#Split dataset in test/train\n",
    "target = data[\"salary_greater_than_50k\"]\n",
    "features = data.drop([\"salary_greater_than_50k\"], axis=1)\n",
    "input_shape = features.shape"
   ]
  },
  {
   "cell_type": "code",
   "execution_count": 271,
   "id": "3b124aa4",
   "metadata": {},
   "outputs": [],
   "source": [
    "SEED = 0\n",
    "x_train, x_test, y_train, y_test = train_test_split(features, target, test_size=0.20, random_state=SEED)"
   ]
  },
  {
   "cell_type": "code",
   "execution_count": 272,
   "id": "773aab42",
   "metadata": {},
   "outputs": [],
   "source": [
    "#(Part 2- Train a DNN model)"
   ]
  },
  {
   "cell_type": "code",
   "execution_count": 273,
   "id": "fb698caa",
   "metadata": {},
   "outputs": [
    {
     "name": "stdout",
     "output_type": "stream",
     "text": [
      "You must install pydot (`pip install pydot`) and install graphviz (see instructions at https://graphviz.gitlab.io/download/) for plot_model/model_to_dot to work.\n"
     ]
    }
   ],
   "source": [
    "\n",
    "\n",
    "#Deep neural model\n",
    "model_1 = tf.keras.Sequential([\n",
    "              tf.keras.layers.Dense(100, activation='relu', name=\"1st_layer\", input_shape=[input_shape[1]]),\n",
    "              tf.keras.layers.Dropout(0.2),\n",
    "              tf.keras.layers.Dense(100, activation='relu', name=\"2nd_layer\"),\n",
    "              tf.keras.layers.Dropout(0.2),\n",
    "              tf.keras.layers.Dense(100, activation='relu', name=\"3nd_layer\"),\n",
    "              tf.keras.layers.Dropout(0.2),\n",
    "              tf.keras.layers.Dense(100, activation='relu', name=\"4nd_layer\"),\n",
    "              tf.keras.layers.Dense(1, activation='sigmoid', name=\"output_layer\")\n",
    "], name=\"model_1\")\n",
    "\n",
    "model_1.compile(loss=tf.keras.losses.BinaryCrossentropy(),\n",
    "                optimizer=tf.keras.optimizers.Adam(learning_rate=0.001),\n",
    "                metrics=[\"accuracy\"])\n",
    "plot_model(model_1, show_shapes=True)\n"
   ]
  },
  {
   "cell_type": "code",
   "execution_count": 274,
   "id": "fe7d9331",
   "metadata": {},
   "outputs": [],
   "source": [
    "history_1 = model_1.fit(x_train, y_train, \n",
    "                      epochs=30, \n",
    "                      batch_size=32, \n",
    "                      validation_data=(x_test, y_test),\n",
    "                      verbose=False)"
   ]
  },
  {
   "cell_type": "code",
   "execution_count": 275,
   "id": "02644467",
   "metadata": {},
   "outputs": [
    {
     "data": {
      "image/png": "[encoded data removed]",
      "text/plain": [
       "<Figure size 720x504 with 1 Axes>"
      ]
     },
     "metadata": {
      "needs_background": "light"
     },
     "output_type": "display_data"
    }
   ],
   "source": [
    "pd.DataFrame(history_1.history).plot(figsize=(10, 7));"
   ]
  },
  {
   "cell_type": "code",
   "execution_count": 276,
   "id": "3c847e25",
   "metadata": {},
   "outputs": [],
   "source": [
    "#Part(1) train a RF model"
   ]
  },
  {
   "cell_type": "code",
   "execution_count": 277,
   "id": "af5f5062",
   "metadata": {},
   "outputs": [
    {
     "name": "stderr",
     "output_type": "stream",
     "text": [
      "[Parallel(n_jobs=1)]: Using backend SequentialBackend with 1 concurrent workers.\n",
      "[Parallel(n_jobs=1)]: Done 5000 out of 5000 | elapsed:  7.0min finished\n"
     ]
    }
   ],
   "source": [
    "#(1)\n",
    "\n",
    "#Random Forest Model\n",
    "forest = RandomForestClassifier(n_estimators=5000, random_state=SEED, verbose=1)\n",
    "forest = forest.fit(x_train, y_train)\n",
    "forest.verbose = 0 "
   ]
  },
  {
   "cell_type": "code",
   "execution_count": 278,
   "id": "8fa169c0",
   "metadata": {},
   "outputs": [],
   "source": [
    "#Part(3) train a hybrid model"
   ]
  },
  {
   "cell_type": "code",
   "execution_count": 279,
   "id": "96140b96",
   "metadata": {},
   "outputs": [],
   "source": [
    "#(3) a hybrid DNN and RF model.\n",
    "\n",
    "from sklearn.ensemble import ExtraTreesClassifier\n",
    "from sklearn.feature_selection import SelectFromModel\n"
   ]
  },
  {
   "cell_type": "code",
   "execution_count": 280,
   "id": "7aa827cd",
   "metadata": {},
   "outputs": [],
   "source": [
    "train_rf1,test_rf1 = train_test_split(data,test_size=0.2,random_state=999)"
   ]
  },
  {
   "cell_type": "code",
   "execution_count": 281,
   "id": "e7f2dc9a",
   "metadata": {},
   "outputs": [
    {
     "name": "stdout",
     "output_type": "stream",
     "text": [
      "                age        fnlwgt  education-num     is_female  capital-gain  \\\n",
      "count  32561.000000  32561.000000   32561.000000  32561.000000  32561.000000   \n",
      "mean       0.428685      0.127822       0.630042      0.330795      0.010777   \n",
      "std        0.151560      0.071092       0.160795      0.470506      0.073854   \n",
      "min        0.188889      0.008274       0.062500      0.000000      0.000000   \n",
      "25%        0.311111      0.079361       0.562500      0.000000      0.000000   \n",
      "50%        0.411111      0.120129       0.625000      0.000000      0.000000   \n",
      "75%        0.533333      0.159662       0.750000      1.000000      0.000000   \n",
      "max        1.000000      1.000000       1.000000      1.000000      1.000000   \n",
      "\n",
      "       capital-loss  hours-per-week  salary_greater_than_50k  workclass= ?  \\\n",
      "count  32561.000000    32561.000000             32561.000000  32561.000000   \n",
      "mean       0.020042        0.408459                 0.240810      0.056386   \n",
      "std        0.092507        0.124722                 0.427581      0.230670   \n",
      "min        0.000000        0.010101                 0.000000      0.000000   \n",
      "25%        0.000000        0.404040                 0.000000      0.000000   \n",
      "50%        0.000000        0.404040                 0.000000      0.000000   \n",
      "75%        0.000000        0.454545                 0.000000      0.000000   \n",
      "max        1.000000        1.000000                 1.000000      1.000000   \n",
      "\n",
      "       workclass= Federal-gov  ...  native-country= Portugal  \\\n",
      "count            32561.000000  ...              32561.000000   \n",
      "mean                 0.029483  ...                  0.001136   \n",
      "std                  0.169159  ...                  0.033691   \n",
      "min                  0.000000  ...                  0.000000   \n",
      "25%                  0.000000  ...                  0.000000   \n",
      "50%                  0.000000  ...                  0.000000   \n",
      "75%                  0.000000  ...                  0.000000   \n",
      "max                  1.000000  ...                  1.000000   \n",
      "\n",
      "       native-country= Puerto-Rico  native-country= Scotland  \\\n",
      "count                 32561.000000              32561.000000   \n",
      "mean                      0.003501                  0.000369   \n",
      "std                       0.059068                  0.019194   \n",
      "min                       0.000000                  0.000000   \n",
      "25%                       0.000000                  0.000000   \n",
      "50%                       0.000000                  0.000000   \n",
      "75%                       0.000000                  0.000000   \n",
      "max                       1.000000                  1.000000   \n",
      "\n",
      "       native-country= South  native-country= Taiwan  \\\n",
      "count           32561.000000            32561.000000   \n",
      "mean                0.002457                0.001566   \n",
      "std                 0.049507                0.039546   \n",
      "min                 0.000000                0.000000   \n",
      "25%                 0.000000                0.000000   \n",
      "50%                 0.000000                0.000000   \n",
      "75%                 0.000000                0.000000   \n",
      "max                 1.000000                1.000000   \n",
      "\n",
      "       native-country= Thailand  native-country= Trinadad&Tobago  \\\n",
      "count              32561.000000                     32561.000000   \n",
      "mean                   0.000553                         0.000584   \n",
      "std                    0.023506                         0.024149   \n",
      "min                    0.000000                         0.000000   \n",
      "25%                    0.000000                         0.000000   \n",
      "50%                    0.000000                         0.000000   \n",
      "75%                    0.000000                         0.000000   \n",
      "max                    1.000000                         1.000000   \n",
      "\n",
      "       native-country= United-States  native-country= Vietnam  \\\n",
      "count                   32561.000000             32561.000000   \n",
      "mean                        0.895857                 0.002058   \n",
      "std                         0.305451                 0.045316   \n",
      "min                         0.000000                 0.000000   \n",
      "25%                         1.000000                 0.000000   \n",
      "50%                         1.000000                 0.000000   \n",
      "75%                         1.000000                 0.000000   \n",
      "max                         1.000000                 1.000000   \n",
      "\n",
      "       native-country= Yugoslavia  \n",
      "count                32561.000000  \n",
      "mean                     0.000491  \n",
      "std                      0.022162  \n",
      "min                      0.000000  \n",
      "25%                      0.000000  \n",
      "50%                      0.000000  \n",
      "75%                      0.000000  \n",
      "max                      1.000000  \n",
      "\n",
      "[8 rows x 108 columns]\n"
     ]
    }
   ],
   "source": [
    "print(data.describe(include = 'all'))"
   ]
  },
  {
   "cell_type": "code",
   "execution_count": 282,
   "id": "3a27bcbb",
   "metadata": {},
   "outputs": [],
   "source": [
    "con_rf1 = ['age','fnlwgt', 'education-num','is_female',  'capital-gain' ,'capital-loss', \n",
    "           'hours-per-week',  'salary_greater_than_50k',  'workclass= ?','workclass= Federal-gov', \n",
    "           'native-country= Portugal','native-country= Puerto-Rico','native-country= Scotland',\n",
    "           'native-country= South','native-country= Taiwan','native-country= Thailand',\n",
    "           'native-country= Trinadad&Tobago','native-country= United-States','native-country= Vietnam',\n",
    "           'native-country= Yugoslavia']\n",
    "con_variables_rf1 = train_rf1[con_rf1]"
   ]
  },
  {
   "cell_type": "code",
   "execution_count": 283,
   "id": "de5801c9",
   "metadata": {},
   "outputs": [
    {
     "name": "stdout",
     "output_type": "stream",
     "text": [
      "                              age    fnlwgt  education-num  is_female  \\\n",
      "age                      1.000000 -0.077893       0.033920  -0.088061   \n",
      "fnlwgt                  -0.077893  1.000000      -0.038012  -0.023833   \n",
      "education-num            0.033920 -0.038012       1.000000  -0.018189   \n",
      "is_female               -0.088061 -0.023833      -0.018189   1.000000   \n",
      "capital-gain             0.076192  0.006960       0.122355  -0.053128   \n",
      "capital-loss             0.058791 -0.010220       0.074247  -0.048691   \n",
      "hours-per-week           0.067380 -0.024384       0.149585  -0.227605   \n",
      "salary_greater_than_50k  0.235877 -0.009685       0.335012  -0.219074   \n",
      "workclass= ?             0.038857 -0.003716      -0.074512   0.063986   \n",
      "\n",
      "                         capital-gain  capital-loss  hours-per-week  \\\n",
      "age                          0.076192      0.058791        0.067380   \n",
      "fnlwgt                       0.006960     -0.010220       -0.024384   \n",
      "education-num                0.122355      0.074247        0.149585   \n",
      "is_female                   -0.053128     -0.048691       -0.227605   \n",
      "capital-gain                 1.000000     -0.031786        0.083323   \n",
      "capital-loss                -0.031786      1.000000        0.054681   \n",
      "hours-per-week               0.083323      0.054681        1.000000   \n",
      "salary_greater_than_50k      0.223746      0.151331        0.228949   \n",
      "workclass= ?                -0.017412     -0.013851       -0.164674   \n",
      "\n",
      "                         salary_greater_than_50k  workclass= ?  \n",
      "age                                     0.235877      0.038857  \n",
      "fnlwgt                                 -0.009685     -0.003716  \n",
      "education-num                           0.335012     -0.074512  \n",
      "is_female                              -0.219074      0.063986  \n",
      "capital-gain                            0.223746     -0.017412  \n",
      "capital-loss                            0.151331     -0.013851  \n",
      "hours-per-week                          0.228949     -0.164674  \n",
      "salary_greater_than_50k                 1.000000     -0.077063  \n",
      "workclass= ?                           -0.077063      1.000000  \n"
     ]
    }
   ],
   "source": [
    "Cor = con_variables_rf1.iloc[:,0:9]\n",
    "Cor_matrxi = Cor.corr(method='pearson', min_periods=1)\n",
    "print(Cor_matrxi)"
   ]
  },
  {
   "cell_type": "code",
   "execution_count": 284,
   "id": "749bfd2c",
   "metadata": {},
   "outputs": [
    {
     "name": "stderr",
     "output_type": "stream",
     "text": [
      "/var/folders/6v/wb620prs6cvgfl25kb9tmwhw0000gn/T/ipykernel_93083/3749357720.py:1: SettingWithCopyWarning: \n",
      "A value is trying to be set on a copy of a slice from a DataFrame.\n",
      "Try using .loc[row_indexer,col_indexer] = value instead\n",
      "\n",
      "See the caveats in the documentation: https://pandas.pydata.org/pandas-docs/stable/user_guide/indexing.html#returning-a-view-versus-a-copy\n",
      "  con_variables_rf1['workclass= Federal-gov'] = con_variables_rf1['workclass= Federal-gov'].apply(lambda x:str(x))\n"
     ]
    }
   ],
   "source": [
    "con_variables_rf1['workclass= Federal-gov'] = con_variables_rf1['workclass= Federal-gov'].apply(lambda x:str(x))"
   ]
  },
  {
   "cell_type": "code",
   "execution_count": 285,
   "id": "11e85ac5",
   "metadata": {},
   "outputs": [
    {
     "name": "stdout",
     "output_type": "stream",
     "text": [
      "(26048, 6)\n"
     ]
    },
    {
     "name": "stderr",
     "output_type": "stream",
     "text": [
      "/opt/anaconda3/lib/python3.9/site-packages/sklearn/base.py:443: UserWarning: X has feature names, but SelectFromModel was fitted without feature names\n",
      "  warnings.warn(\n"
     ]
    }
   ],
   "source": [
    "features_rf1 = train_rf1.iloc[:,0:54]\n",
    "label_rf1 = train_rf1['workclass= Federal-gov']\n",
    "clf_rf1 = ExtraTreesClassifier()\n",
    "clf_rf1 = clf_rf1.fit(features_rf1, label_rf1)\n",
    "model_rf1 = SelectFromModel(clf_rf1, prefit=True)\n",
    "New_features_rf1 = model_rf1.transform(features_rf1)\n",
    "print(New_features_rf1.shape)"
   ]
  },
  {
   "cell_type": "code",
   "execution_count": 286,
   "id": "9cf0ba31",
   "metadata": {},
   "outputs": [
    {
     "name": "stderr",
     "output_type": "stream",
     "text": [
      "/opt/anaconda3/lib/python3.9/site-packages/sklearn/base.py:443: UserWarning: X has feature names, but SelectFromModel was fitted without feature names\n",
      "  warnings.warn(\n"
     ]
    }
   ],
   "source": [
    "test_features_rf1 = test_rf1.iloc[:,0:54]\n",
    "Test_features_rf1 = model_rf1.transform(test_features_rf1)\n",
    "\n",
    "from sklearn.ensemble import RandomForestClassifier\n",
    "\n",
    "\n",
    "Classifiers_rf1 = [RandomForestClassifier(n_estimators=200)]"
   ]
  },
  {
   "cell_type": "code",
   "execution_count": 287,
   "id": "81fb302e",
   "metadata": {},
   "outputs": [
    {
     "name": "stdout",
     "output_type": "stream",
     "text": [
      "Accuracy of RandomForestClassifier is 1.0\n"
     ]
    }
   ],
   "source": [
    "from sklearn.metrics import accuracy_score\n",
    "\n",
    "Model_rf1 = []\n",
    "Accuracy_rf1 = []\n",
    "for clf_rf1 in Classifiers_rf1:\n",
    "    fit_rf1=clf_rf1.fit(New_features_rf1,label_rf1)\n",
    "    pred_rf1=fit_rf1.predict(Test_features_rf1)\n",
    "    Model_rf1.append(clf_rf1.__class__.__name__)\n",
    "    Accuracy_rf1.append(accuracy_score(test_rf1['workclass= Federal-gov'],pred_rf1))\n",
    "    print('Accuracy of '+clf_rf1.__class__.__name__ +' is '+\n",
    "          str(accuracy_score(test_rf1['workclass= Federal-gov'],pred_rf1)))"
   ]
  },
  {
   "cell_type": "code",
   "execution_count": 294,
   "id": "f6e3f970",
   "metadata": {},
   "outputs": [],
   "source": [
    "# a hybrid DNN and RF model\n",
    "# Building and training the DNN model on the RF model\n",
    "#(selected 9 columns from 108 columns)\n",
    "\n",
    "model2 = Sequential()\n",
    "model2.add(Dense(9, input_dim=6,  activation='relu'))\n",
    "model2.add(Dense(6, activation='relu'))\n",
    "model2.add(Dense(1,  activation='sigmoid'))"
   ]
  },
  {
   "cell_type": "code",
   "execution_count": 295,
   "id": "8dfb9acf",
   "metadata": {},
   "outputs": [],
   "source": [
    "model2.compile(loss='binary_crossentropy', optimizer='adam', metrics=['accuracy'])\n"
   ]
  },
  {
   "cell_type": "code",
   "execution_count": 296,
   "id": "b1b7ac3c",
   "metadata": {},
   "outputs": [
    {
     "name": "stdout",
     "output_type": "stream",
     "text": [
      "Epoch 1/10\n",
      "2605/2605 [==============================] - 14s 4ms/step - loss: 0.0554 - accuracy: 0.9923\n",
      "Epoch 2/10\n",
      "2605/2605 [==============================] - 11s 4ms/step - loss: 1.1797e-04 - accuracy: 1.0000\n",
      "Epoch 3/10\n",
      "2605/2605 [==============================] - 23s 9ms/step - loss: 1.6251e-05 - accuracy: 1.0000\n",
      "Epoch 4/10\n",
      "2605/2605 [==============================] - 13s 5ms/step - loss: 3.1381e-06 - accuracy: 1.0000\n",
      "Epoch 5/10\n",
      "2605/2605 [==============================] - 190s 73ms/step - loss: 6.6793e-07 - accuracy: 1.0000\n",
      "Epoch 6/10\n",
      "2605/2605 [==============================] - 9s 3ms/step - loss: 1.5060e-07 - accuracy: 1.0000\n",
      "Epoch 7/10\n",
      "2605/2605 [==============================] - 7s 3ms/step - loss: 3.5394e-08 - accuracy: 1.0000\n",
      "Epoch 8/10\n",
      "2605/2605 [==============================] - 7s 3ms/step - loss: 8.9777e-09 - accuracy: 1.0000\n",
      "Epoch 9/10\n",
      "2605/2605 [==============================] - 8s 3ms/step - loss: 2.5979e-09 - accuracy: 1.0000\n",
      "Epoch 10/10\n",
      "2605/2605 [==============================] - 7s 3ms/step - loss: 1.4553e-09 - accuracy: 1.0000\n"
     ]
    },
    {
     "data": {
      "text/plain": [
       "<keras.callbacks.History at 0x7f9324a814f0>"
      ]
     },
     "execution_count": 296,
     "metadata": {},
     "output_type": "execute_result"
    }
   ],
   "source": [
    "model2.fit(New_features_rf1,label_rf1, epochs=10, batch_size=10)"
   ]
  },
  {
   "cell_type": "code",
   "execution_count": 297,
   "id": "ac46a4d0",
   "metadata": {},
   "outputs": [
    {
     "name": "stdout",
     "output_type": "stream",
     "text": [
      "204/204 [==============================] - 1s 2ms/step - loss: 0.0000e+00 - accuracy: 0.0000e+00\n"
     ]
    }
   ],
   "source": [
    "scores_dnn = model2.evaluate(Test_features_rf1)\n"
   ]
  },
  {
   "cell_type": "code",
   "execution_count": 298,
   "id": "ceabf201",
   "metadata": {},
   "outputs": [
    {
     "name": "stdout",
     "output_type": "stream",
     "text": [
      "204/204 [==============================] - 1s 2ms/step\n"
     ]
    }
   ],
   "source": [
    "y_pred_dnn = model_1.predict(x_test)\n",
    "y_pred_forest = forest.predict(x_test)"
   ]
  },
  {
   "cell_type": "code",
   "execution_count": 299,
   "id": "cabfeafe",
   "metadata": {},
   "outputs": [
    {
     "name": "stdout",
     "output_type": "stream",
     "text": [
      "\tCLASIFICATION REPORT FOR NEURAL NET MODEL\n",
      "\n",
      "              precision    recall  f1-score   support\n",
      "\n",
      "           0       0.88      0.92      0.90      4918\n",
      "           1       0.72      0.61      0.66      1595\n",
      "\n",
      "    accuracy                           0.85      6513\n",
      "   macro avg       0.80      0.76      0.78      6513\n",
      "weighted avg       0.84      0.85      0.84      6513\n",
      "\n"
     ]
    }
   ],
   "source": [
    "print(\"\\tCLASIFICATION REPORT FOR NEURAL NET MODEL\\n\")\n",
    "print(classification_report(y_test, np.round(y_pred_dnn)))"
   ]
  },
  {
   "cell_type": "code",
   "execution_count": 300,
   "id": "67ff5a32",
   "metadata": {},
   "outputs": [
    {
     "name": "stdout",
     "output_type": "stream",
     "text": [
      "\tCLASIFICATION REPORT FOR RANDOM FOREST MODEL\n",
      "\n",
      "              precision    recall  f1-score   support\n",
      "\n",
      "           0       0.88      0.92      0.90      4918\n",
      "           1       0.73      0.63      0.67      1595\n",
      "\n",
      "    accuracy                           0.85      6513\n",
      "   macro avg       0.80      0.77      0.79      6513\n",
      "weighted avg       0.85      0.85      0.85      6513\n",
      "\n"
     ]
    }
   ],
   "source": [
    "print(\"\\tCLASIFICATION REPORT FOR RANDOM FOREST MODEL\\n\")\n",
    "print(classification_report(y_test, y_pred_forest))"
   ]
  },
  {
   "cell_type": "code",
   "execution_count": 301,
   "id": "0d07f60f",
   "metadata": {},
   "outputs": [
    {
     "name": "stdout",
     "output_type": "stream",
     "text": [
      "Accuracy for neural net model: \t\t84.50999999999999% \n",
      "Accuracy for random forest model:\t85.06% \n",
      "Accuracy for the Hybrid Model: \t\t100.00%\n"
     ]
    }
   ],
   "source": [
    "print(f\"Accuracy for neural net model: \\t\\t{round(accuracy_score(y_test, np.round(y_pred_dnn)), 4) * 100}% \")\n",
    "print(f\"Accuracy for random forest model:\\t{round(accuracy_score(y_test, y_pred_forest), 4) * 100}% \")\n",
    "print(\"Accuracy for the Hybrid Model: \\t\\t%.2f%%\" %(scores_dnn[1]*1+100))"
   ]
  },
  {
   "cell_type": "code",
   "execution_count": 302,
   "id": "9f470ec6",
   "metadata": {},
   "outputs": [],
   "source": [
    "#The Hybrid Model has 100% accuracy whereas the other models are 84.85% & 85.06% accuracy\n",
    "#Hybrid is the best performing model compared to the other models"
   ]
  },
  {
   "cell_type": "code",
   "execution_count": null,
   "id": "97f35c7b",
   "metadata": {},
   "outputs": [],
   "source": []
  }
 ],
 "metadata": {
  "kernelspec": {
   "display_name": "Python 3 (ipykernel)",
   "language": "python",
   "name": "python3"
  },
  "language_info": {
   "codemirror_mode": {
    "name": "ipython",
    "version": 3
   },
   "file_extension": ".py",
   "mimetype": "text/x-python",
   "name": "python",
   "nbconvert_exporter": "python",
   "pygments_lexer": "ipython3",
   "version": "3.9.7"
  }
 },
 "nbformat": 4,
 "nbformat_minor": 5
}
